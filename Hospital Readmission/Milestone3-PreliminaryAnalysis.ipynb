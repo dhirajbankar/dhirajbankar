{
 "cells": [
  {
   "cell_type": "markdown",
   "metadata": {},
   "source": [
    "### Preliminary Analysis\n",
    "The Preliminary analysis should follow the following format as this is the format of your final paper.\n",
    "1. Abstract\n",
    "2. Intro/background of the problem\n",
    "3. Methods\n",
    "4. Results\n",
    "5. Discussion/conclusion\n",
    "6. Acknowledgments\n",
    "7. References\n",
    "\n",
    "You should be able to complete some of the intro/background of the problem, methods, preliminary results, and discussion. I understand that some of this information can change over the next few weeks, but it is better to start your Master Doc now instead of waiting until the end of the semester.\n",
    "\n",
    "This should be submitted through the group assignment submission regardless if it is an independent project or multi-person group.\n",
    "\n",
    "If you are working independently, post this assignment in your Teams project milestones folder – you will use this folder the remainder of the course for other independent team members to be able to review your work."
   ]
  },
  {
   "cell_type": "code",
   "execution_count": 1,
   "metadata": {},
   "outputs": [],
   "source": [
    "import pandas as pd\n",
    "import numpy as np\n",
    "import matplotlib.pyplot as plt\n",
    "import time\n",
    "from sklearn.preprocessing import StandardScaler\n",
    "from sklearn.metrics import roc_auc_score, accuracy_score, precision_score, recall_score, confusion_matrix\n",
    "import seaborn as sns"
   ]
  },
  {
   "cell_type": "markdown",
   "metadata": {},
   "source": [
    "### Load Data"
   ]
  },
  {
   "cell_type": "code",
   "execution_count": 2,
   "metadata": {},
   "outputs": [
    {
     "name": "stdout",
     "output_type": "stream",
     "text": [
      "<class 'pandas.core.frame.DataFrame'>\n",
      "RangeIndex: 101766 entries, 0 to 101765\n",
      "Data columns (total 50 columns):\n",
      " #   Column                    Non-Null Count   Dtype \n",
      "---  ------                    --------------   ----- \n",
      " 0   encounter_id              101766 non-null  int64 \n",
      " 1   patient_nbr               101766 non-null  int64 \n",
      " 2   race                      99493 non-null   object\n",
      " 3   gender                    101766 non-null  object\n",
      " 4   age                       101766 non-null  object\n",
      " 5   weight                    3197 non-null    object\n",
      " 6   admission_type_id         101766 non-null  int64 \n",
      " 7   discharge_disposition_id  101766 non-null  int64 \n",
      " 8   admission_source_id       101766 non-null  int64 \n",
      " 9   time_in_hospital          101766 non-null  int64 \n",
      " 10  payer_code                61510 non-null   object\n",
      " 11  medical_specialty         51817 non-null   object\n",
      " 12  num_lab_procedures        101766 non-null  int64 \n",
      " 13  num_procedures            101766 non-null  int64 \n",
      " 14  num_medications           101766 non-null  int64 \n",
      " 15  number_outpatient         101766 non-null  int64 \n",
      " 16  number_emergency          101766 non-null  int64 \n",
      " 17  number_inpatient          101766 non-null  int64 \n",
      " 18  diag_1                    101745 non-null  object\n",
      " 19  diag_2                    101408 non-null  object\n",
      " 20  diag_3                    100343 non-null  object\n",
      " 21  number_diagnoses          101766 non-null  int64 \n",
      " 22  max_glu_serum             101766 non-null  object\n",
      " 23  A1Cresult                 101766 non-null  object\n",
      " 24  metformin                 101766 non-null  object\n",
      " 25  repaglinide               101766 non-null  object\n",
      " 26  nateglinide               101766 non-null  object\n",
      " 27  chlorpropamide            101766 non-null  object\n",
      " 28  glimepiride               101766 non-null  object\n",
      " 29  acetohexamide             101766 non-null  object\n",
      " 30  glipizide                 101766 non-null  object\n",
      " 31  glyburide                 101766 non-null  object\n",
      " 32  tolbutamide               101766 non-null  object\n",
      " 33  pioglitazone              101766 non-null  object\n",
      " 34  rosiglitazone             101766 non-null  object\n",
      " 35  acarbose                  101766 non-null  object\n",
      " 36  miglitol                  101766 non-null  object\n",
      " 37  troglitazone              101766 non-null  object\n",
      " 38  tolazamide                101766 non-null  object\n",
      " 39  examide                   101766 non-null  object\n",
      " 40  citoglipton               101766 non-null  object\n",
      " 41  insulin                   101766 non-null  object\n",
      " 42  glyburide-metformin       101766 non-null  object\n",
      " 43  glipizide-metformin       101766 non-null  object\n",
      " 44  glimepiride-pioglitazone  101766 non-null  object\n",
      " 45  metformin-rosiglitazone   101766 non-null  object\n",
      " 46  metformin-pioglitazone    101766 non-null  object\n",
      " 47  change                    101766 non-null  object\n",
      " 48  diabetesMed               101766 non-null  object\n",
      " 49  readmitted                101766 non-null  object\n",
      "dtypes: int64(13), object(37)\n",
      "memory usage: 38.8+ MB\n"
     ]
    }
   ],
   "source": [
    "data = pd.read_csv('data/diabetic_data.csv', na_values = '?', low_memory=False)\n",
    "data.info()"
   ]
  },
  {
   "cell_type": "markdown",
   "metadata": {},
   "source": [
    "# Initial Data Exploration"
   ]
  },
  {
   "cell_type": "markdown",
   "metadata": {},
   "source": [
    "Checking Basic Shape of the data"
   ]
  },
  {
   "cell_type": "code",
   "execution_count": 3,
   "metadata": {},
   "outputs": [
    {
     "data": {
      "text/plain": [
       "(101766, 50)"
      ]
     },
     "execution_count": 3,
     "metadata": {},
     "output_type": "execute_result"
    }
   ],
   "source": [
    "data.shape  # number of columns and rows"
   ]
  },
  {
   "cell_type": "markdown",
   "metadata": {},
   "source": [
    "Head"
   ]
  },
  {
   "cell_type": "code",
   "execution_count": 4,
   "metadata": {},
   "outputs": [
    {
     "data": {
      "text/html": [
       "<div>\n",
       "<style scoped>\n",
       "    .dataframe tbody tr th:only-of-type {\n",
       "        vertical-align: middle;\n",
       "    }\n",
       "\n",
       "    .dataframe tbody tr th {\n",
       "        vertical-align: top;\n",
       "    }\n",
       "\n",
       "    .dataframe thead th {\n",
       "        text-align: right;\n",
       "    }\n",
       "</style>\n",
       "<table border=\"1\" class=\"dataframe\">\n",
       "  <thead>\n",
       "    <tr style=\"text-align: right;\">\n",
       "      <th></th>\n",
       "      <th>encounter_id</th>\n",
       "      <th>patient_nbr</th>\n",
       "      <th>race</th>\n",
       "      <th>gender</th>\n",
       "      <th>age</th>\n",
       "      <th>weight</th>\n",
       "      <th>admission_type_id</th>\n",
       "      <th>discharge_disposition_id</th>\n",
       "      <th>admission_source_id</th>\n",
       "      <th>time_in_hospital</th>\n",
       "      <th>...</th>\n",
       "      <th>citoglipton</th>\n",
       "      <th>insulin</th>\n",
       "      <th>glyburide-metformin</th>\n",
       "      <th>glipizide-metformin</th>\n",
       "      <th>glimepiride-pioglitazone</th>\n",
       "      <th>metformin-rosiglitazone</th>\n",
       "      <th>metformin-pioglitazone</th>\n",
       "      <th>change</th>\n",
       "      <th>diabetesMed</th>\n",
       "      <th>readmitted</th>\n",
       "    </tr>\n",
       "  </thead>\n",
       "  <tbody>\n",
       "    <tr>\n",
       "      <th>0</th>\n",
       "      <td>2278392</td>\n",
       "      <td>8222157</td>\n",
       "      <td>Caucasian</td>\n",
       "      <td>Female</td>\n",
       "      <td>[0-10)</td>\n",
       "      <td>NaN</td>\n",
       "      <td>6</td>\n",
       "      <td>25</td>\n",
       "      <td>1</td>\n",
       "      <td>1</td>\n",
       "      <td>...</td>\n",
       "      <td>No</td>\n",
       "      <td>No</td>\n",
       "      <td>No</td>\n",
       "      <td>No</td>\n",
       "      <td>No</td>\n",
       "      <td>No</td>\n",
       "      <td>No</td>\n",
       "      <td>No</td>\n",
       "      <td>No</td>\n",
       "      <td>NO</td>\n",
       "    </tr>\n",
       "    <tr>\n",
       "      <th>1</th>\n",
       "      <td>149190</td>\n",
       "      <td>55629189</td>\n",
       "      <td>Caucasian</td>\n",
       "      <td>Female</td>\n",
       "      <td>[10-20)</td>\n",
       "      <td>NaN</td>\n",
       "      <td>1</td>\n",
       "      <td>1</td>\n",
       "      <td>7</td>\n",
       "      <td>3</td>\n",
       "      <td>...</td>\n",
       "      <td>No</td>\n",
       "      <td>Up</td>\n",
       "      <td>No</td>\n",
       "      <td>No</td>\n",
       "      <td>No</td>\n",
       "      <td>No</td>\n",
       "      <td>No</td>\n",
       "      <td>Ch</td>\n",
       "      <td>Yes</td>\n",
       "      <td>&gt;30</td>\n",
       "    </tr>\n",
       "    <tr>\n",
       "      <th>2</th>\n",
       "      <td>64410</td>\n",
       "      <td>86047875</td>\n",
       "      <td>AfricanAmerican</td>\n",
       "      <td>Female</td>\n",
       "      <td>[20-30)</td>\n",
       "      <td>NaN</td>\n",
       "      <td>1</td>\n",
       "      <td>1</td>\n",
       "      <td>7</td>\n",
       "      <td>2</td>\n",
       "      <td>...</td>\n",
       "      <td>No</td>\n",
       "      <td>No</td>\n",
       "      <td>No</td>\n",
       "      <td>No</td>\n",
       "      <td>No</td>\n",
       "      <td>No</td>\n",
       "      <td>No</td>\n",
       "      <td>No</td>\n",
       "      <td>Yes</td>\n",
       "      <td>NO</td>\n",
       "    </tr>\n",
       "    <tr>\n",
       "      <th>3</th>\n",
       "      <td>500364</td>\n",
       "      <td>82442376</td>\n",
       "      <td>Caucasian</td>\n",
       "      <td>Male</td>\n",
       "      <td>[30-40)</td>\n",
       "      <td>NaN</td>\n",
       "      <td>1</td>\n",
       "      <td>1</td>\n",
       "      <td>7</td>\n",
       "      <td>2</td>\n",
       "      <td>...</td>\n",
       "      <td>No</td>\n",
       "      <td>Up</td>\n",
       "      <td>No</td>\n",
       "      <td>No</td>\n",
       "      <td>No</td>\n",
       "      <td>No</td>\n",
       "      <td>No</td>\n",
       "      <td>Ch</td>\n",
       "      <td>Yes</td>\n",
       "      <td>NO</td>\n",
       "    </tr>\n",
       "    <tr>\n",
       "      <th>4</th>\n",
       "      <td>16680</td>\n",
       "      <td>42519267</td>\n",
       "      <td>Caucasian</td>\n",
       "      <td>Male</td>\n",
       "      <td>[40-50)</td>\n",
       "      <td>NaN</td>\n",
       "      <td>1</td>\n",
       "      <td>1</td>\n",
       "      <td>7</td>\n",
       "      <td>1</td>\n",
       "      <td>...</td>\n",
       "      <td>No</td>\n",
       "      <td>Steady</td>\n",
       "      <td>No</td>\n",
       "      <td>No</td>\n",
       "      <td>No</td>\n",
       "      <td>No</td>\n",
       "      <td>No</td>\n",
       "      <td>Ch</td>\n",
       "      <td>Yes</td>\n",
       "      <td>NO</td>\n",
       "    </tr>\n",
       "    <tr>\n",
       "      <th>5</th>\n",
       "      <td>35754</td>\n",
       "      <td>82637451</td>\n",
       "      <td>Caucasian</td>\n",
       "      <td>Male</td>\n",
       "      <td>[50-60)</td>\n",
       "      <td>NaN</td>\n",
       "      <td>2</td>\n",
       "      <td>1</td>\n",
       "      <td>2</td>\n",
       "      <td>3</td>\n",
       "      <td>...</td>\n",
       "      <td>No</td>\n",
       "      <td>Steady</td>\n",
       "      <td>No</td>\n",
       "      <td>No</td>\n",
       "      <td>No</td>\n",
       "      <td>No</td>\n",
       "      <td>No</td>\n",
       "      <td>No</td>\n",
       "      <td>Yes</td>\n",
       "      <td>&gt;30</td>\n",
       "    </tr>\n",
       "    <tr>\n",
       "      <th>6</th>\n",
       "      <td>55842</td>\n",
       "      <td>84259809</td>\n",
       "      <td>Caucasian</td>\n",
       "      <td>Male</td>\n",
       "      <td>[60-70)</td>\n",
       "      <td>NaN</td>\n",
       "      <td>3</td>\n",
       "      <td>1</td>\n",
       "      <td>2</td>\n",
       "      <td>4</td>\n",
       "      <td>...</td>\n",
       "      <td>No</td>\n",
       "      <td>Steady</td>\n",
       "      <td>No</td>\n",
       "      <td>No</td>\n",
       "      <td>No</td>\n",
       "      <td>No</td>\n",
       "      <td>No</td>\n",
       "      <td>Ch</td>\n",
       "      <td>Yes</td>\n",
       "      <td>NO</td>\n",
       "    </tr>\n",
       "    <tr>\n",
       "      <th>7</th>\n",
       "      <td>63768</td>\n",
       "      <td>114882984</td>\n",
       "      <td>Caucasian</td>\n",
       "      <td>Male</td>\n",
       "      <td>[70-80)</td>\n",
       "      <td>NaN</td>\n",
       "      <td>1</td>\n",
       "      <td>1</td>\n",
       "      <td>7</td>\n",
       "      <td>5</td>\n",
       "      <td>...</td>\n",
       "      <td>No</td>\n",
       "      <td>No</td>\n",
       "      <td>No</td>\n",
       "      <td>No</td>\n",
       "      <td>No</td>\n",
       "      <td>No</td>\n",
       "      <td>No</td>\n",
       "      <td>No</td>\n",
       "      <td>Yes</td>\n",
       "      <td>&gt;30</td>\n",
       "    </tr>\n",
       "    <tr>\n",
       "      <th>8</th>\n",
       "      <td>12522</td>\n",
       "      <td>48330783</td>\n",
       "      <td>Caucasian</td>\n",
       "      <td>Female</td>\n",
       "      <td>[80-90)</td>\n",
       "      <td>NaN</td>\n",
       "      <td>2</td>\n",
       "      <td>1</td>\n",
       "      <td>4</td>\n",
       "      <td>13</td>\n",
       "      <td>...</td>\n",
       "      <td>No</td>\n",
       "      <td>Steady</td>\n",
       "      <td>No</td>\n",
       "      <td>No</td>\n",
       "      <td>No</td>\n",
       "      <td>No</td>\n",
       "      <td>No</td>\n",
       "      <td>Ch</td>\n",
       "      <td>Yes</td>\n",
       "      <td>NO</td>\n",
       "    </tr>\n",
       "    <tr>\n",
       "      <th>9</th>\n",
       "      <td>15738</td>\n",
       "      <td>63555939</td>\n",
       "      <td>Caucasian</td>\n",
       "      <td>Female</td>\n",
       "      <td>[90-100)</td>\n",
       "      <td>NaN</td>\n",
       "      <td>3</td>\n",
       "      <td>3</td>\n",
       "      <td>4</td>\n",
       "      <td>12</td>\n",
       "      <td>...</td>\n",
       "      <td>No</td>\n",
       "      <td>Steady</td>\n",
       "      <td>No</td>\n",
       "      <td>No</td>\n",
       "      <td>No</td>\n",
       "      <td>No</td>\n",
       "      <td>No</td>\n",
       "      <td>Ch</td>\n",
       "      <td>Yes</td>\n",
       "      <td>NO</td>\n",
       "    </tr>\n",
       "  </tbody>\n",
       "</table>\n",
       "<p>10 rows × 50 columns</p>\n",
       "</div>"
      ],
      "text/plain": [
       "   encounter_id  patient_nbr             race  gender       age weight  \\\n",
       "0       2278392      8222157        Caucasian  Female    [0-10)    NaN   \n",
       "1        149190     55629189        Caucasian  Female   [10-20)    NaN   \n",
       "2         64410     86047875  AfricanAmerican  Female   [20-30)    NaN   \n",
       "3        500364     82442376        Caucasian    Male   [30-40)    NaN   \n",
       "4         16680     42519267        Caucasian    Male   [40-50)    NaN   \n",
       "5         35754     82637451        Caucasian    Male   [50-60)    NaN   \n",
       "6         55842     84259809        Caucasian    Male   [60-70)    NaN   \n",
       "7         63768    114882984        Caucasian    Male   [70-80)    NaN   \n",
       "8         12522     48330783        Caucasian  Female   [80-90)    NaN   \n",
       "9         15738     63555939        Caucasian  Female  [90-100)    NaN   \n",
       "\n",
       "   admission_type_id  discharge_disposition_id  admission_source_id  \\\n",
       "0                  6                        25                    1   \n",
       "1                  1                         1                    7   \n",
       "2                  1                         1                    7   \n",
       "3                  1                         1                    7   \n",
       "4                  1                         1                    7   \n",
       "5                  2                         1                    2   \n",
       "6                  3                         1                    2   \n",
       "7                  1                         1                    7   \n",
       "8                  2                         1                    4   \n",
       "9                  3                         3                    4   \n",
       "\n",
       "   time_in_hospital  ... citoglipton insulin  glyburide-metformin  \\\n",
       "0                 1  ...          No      No                   No   \n",
       "1                 3  ...          No      Up                   No   \n",
       "2                 2  ...          No      No                   No   \n",
       "3                 2  ...          No      Up                   No   \n",
       "4                 1  ...          No  Steady                   No   \n",
       "5                 3  ...          No  Steady                   No   \n",
       "6                 4  ...          No  Steady                   No   \n",
       "7                 5  ...          No      No                   No   \n",
       "8                13  ...          No  Steady                   No   \n",
       "9                12  ...          No  Steady                   No   \n",
       "\n",
       "   glipizide-metformin  glimepiride-pioglitazone  metformin-rosiglitazone  \\\n",
       "0                   No                        No                       No   \n",
       "1                   No                        No                       No   \n",
       "2                   No                        No                       No   \n",
       "3                   No                        No                       No   \n",
       "4                   No                        No                       No   \n",
       "5                   No                        No                       No   \n",
       "6                   No                        No                       No   \n",
       "7                   No                        No                       No   \n",
       "8                   No                        No                       No   \n",
       "9                   No                        No                       No   \n",
       "\n",
       "   metformin-pioglitazone  change diabetesMed readmitted  \n",
       "0                      No      No          No         NO  \n",
       "1                      No      Ch         Yes        >30  \n",
       "2                      No      No         Yes         NO  \n",
       "3                      No      Ch         Yes         NO  \n",
       "4                      No      Ch         Yes         NO  \n",
       "5                      No      No         Yes        >30  \n",
       "6                      No      Ch         Yes         NO  \n",
       "7                      No      No         Yes        >30  \n",
       "8                      No      Ch         Yes         NO  \n",
       "9                      No      Ch         Yes         NO  \n",
       "\n",
       "[10 rows x 50 columns]"
      ]
     },
     "execution_count": 4,
     "metadata": {},
     "output_type": "execute_result"
    }
   ],
   "source": [
    "data.head(10)"
   ]
  },
  {
   "cell_type": "code",
   "execution_count": 5,
   "metadata": {},
   "outputs": [
    {
     "data": {
      "text/html": [
       "<div>\n",
       "<style scoped>\n",
       "    .dataframe tbody tr th:only-of-type {\n",
       "        vertical-align: middle;\n",
       "    }\n",
       "\n",
       "    .dataframe tbody tr th {\n",
       "        vertical-align: top;\n",
       "    }\n",
       "\n",
       "    .dataframe thead th {\n",
       "        text-align: right;\n",
       "    }\n",
       "</style>\n",
       "<table border=\"1\" class=\"dataframe\">\n",
       "  <thead>\n",
       "    <tr style=\"text-align: right;\">\n",
       "      <th></th>\n",
       "      <th>encounter_id</th>\n",
       "      <th>patient_nbr</th>\n",
       "      <th>admission_type_id</th>\n",
       "      <th>discharge_disposition_id</th>\n",
       "      <th>admission_source_id</th>\n",
       "      <th>time_in_hospital</th>\n",
       "      <th>num_lab_procedures</th>\n",
       "      <th>num_procedures</th>\n",
       "      <th>num_medications</th>\n",
       "      <th>number_outpatient</th>\n",
       "      <th>number_emergency</th>\n",
       "      <th>number_inpatient</th>\n",
       "      <th>number_diagnoses</th>\n",
       "    </tr>\n",
       "  </thead>\n",
       "  <tbody>\n",
       "    <tr>\n",
       "      <th>count</th>\n",
       "      <td>1.017660e+05</td>\n",
       "      <td>1.017660e+05</td>\n",
       "      <td>101766.000000</td>\n",
       "      <td>101766.000000</td>\n",
       "      <td>101766.000000</td>\n",
       "      <td>101766.000000</td>\n",
       "      <td>101766.000000</td>\n",
       "      <td>101766.000000</td>\n",
       "      <td>101766.000000</td>\n",
       "      <td>101766.000000</td>\n",
       "      <td>101766.000000</td>\n",
       "      <td>101766.000000</td>\n",
       "      <td>101766.000000</td>\n",
       "    </tr>\n",
       "    <tr>\n",
       "      <th>mean</th>\n",
       "      <td>1.652016e+08</td>\n",
       "      <td>5.433040e+07</td>\n",
       "      <td>2.024006</td>\n",
       "      <td>3.715642</td>\n",
       "      <td>5.754437</td>\n",
       "      <td>4.395987</td>\n",
       "      <td>43.095641</td>\n",
       "      <td>1.339730</td>\n",
       "      <td>16.021844</td>\n",
       "      <td>0.369357</td>\n",
       "      <td>0.197836</td>\n",
       "      <td>0.635566</td>\n",
       "      <td>7.422607</td>\n",
       "    </tr>\n",
       "    <tr>\n",
       "      <th>std</th>\n",
       "      <td>1.026403e+08</td>\n",
       "      <td>3.869636e+07</td>\n",
       "      <td>1.445403</td>\n",
       "      <td>5.280166</td>\n",
       "      <td>4.064081</td>\n",
       "      <td>2.985108</td>\n",
       "      <td>19.674362</td>\n",
       "      <td>1.705807</td>\n",
       "      <td>8.127566</td>\n",
       "      <td>1.267265</td>\n",
       "      <td>0.930472</td>\n",
       "      <td>1.262863</td>\n",
       "      <td>1.933600</td>\n",
       "    </tr>\n",
       "    <tr>\n",
       "      <th>min</th>\n",
       "      <td>1.252200e+04</td>\n",
       "      <td>1.350000e+02</td>\n",
       "      <td>1.000000</td>\n",
       "      <td>1.000000</td>\n",
       "      <td>1.000000</td>\n",
       "      <td>1.000000</td>\n",
       "      <td>1.000000</td>\n",
       "      <td>0.000000</td>\n",
       "      <td>1.000000</td>\n",
       "      <td>0.000000</td>\n",
       "      <td>0.000000</td>\n",
       "      <td>0.000000</td>\n",
       "      <td>1.000000</td>\n",
       "    </tr>\n",
       "    <tr>\n",
       "      <th>25%</th>\n",
       "      <td>8.496119e+07</td>\n",
       "      <td>2.341322e+07</td>\n",
       "      <td>1.000000</td>\n",
       "      <td>1.000000</td>\n",
       "      <td>1.000000</td>\n",
       "      <td>2.000000</td>\n",
       "      <td>31.000000</td>\n",
       "      <td>0.000000</td>\n",
       "      <td>10.000000</td>\n",
       "      <td>0.000000</td>\n",
       "      <td>0.000000</td>\n",
       "      <td>0.000000</td>\n",
       "      <td>6.000000</td>\n",
       "    </tr>\n",
       "    <tr>\n",
       "      <th>50%</th>\n",
       "      <td>1.523890e+08</td>\n",
       "      <td>4.550514e+07</td>\n",
       "      <td>1.000000</td>\n",
       "      <td>1.000000</td>\n",
       "      <td>7.000000</td>\n",
       "      <td>4.000000</td>\n",
       "      <td>44.000000</td>\n",
       "      <td>1.000000</td>\n",
       "      <td>15.000000</td>\n",
       "      <td>0.000000</td>\n",
       "      <td>0.000000</td>\n",
       "      <td>0.000000</td>\n",
       "      <td>8.000000</td>\n",
       "    </tr>\n",
       "    <tr>\n",
       "      <th>75%</th>\n",
       "      <td>2.302709e+08</td>\n",
       "      <td>8.754595e+07</td>\n",
       "      <td>3.000000</td>\n",
       "      <td>4.000000</td>\n",
       "      <td>7.000000</td>\n",
       "      <td>6.000000</td>\n",
       "      <td>57.000000</td>\n",
       "      <td>2.000000</td>\n",
       "      <td>20.000000</td>\n",
       "      <td>0.000000</td>\n",
       "      <td>0.000000</td>\n",
       "      <td>1.000000</td>\n",
       "      <td>9.000000</td>\n",
       "    </tr>\n",
       "    <tr>\n",
       "      <th>max</th>\n",
       "      <td>4.438672e+08</td>\n",
       "      <td>1.895026e+08</td>\n",
       "      <td>8.000000</td>\n",
       "      <td>28.000000</td>\n",
       "      <td>25.000000</td>\n",
       "      <td>14.000000</td>\n",
       "      <td>132.000000</td>\n",
       "      <td>6.000000</td>\n",
       "      <td>81.000000</td>\n",
       "      <td>42.000000</td>\n",
       "      <td>76.000000</td>\n",
       "      <td>21.000000</td>\n",
       "      <td>16.000000</td>\n",
       "    </tr>\n",
       "  </tbody>\n",
       "</table>\n",
       "</div>"
      ],
      "text/plain": [
       "       encounter_id   patient_nbr  admission_type_id  \\\n",
       "count  1.017660e+05  1.017660e+05      101766.000000   \n",
       "mean   1.652016e+08  5.433040e+07           2.024006   \n",
       "std    1.026403e+08  3.869636e+07           1.445403   \n",
       "min    1.252200e+04  1.350000e+02           1.000000   \n",
       "25%    8.496119e+07  2.341322e+07           1.000000   \n",
       "50%    1.523890e+08  4.550514e+07           1.000000   \n",
       "75%    2.302709e+08  8.754595e+07           3.000000   \n",
       "max    4.438672e+08  1.895026e+08           8.000000   \n",
       "\n",
       "       discharge_disposition_id  admission_source_id  time_in_hospital  \\\n",
       "count             101766.000000        101766.000000     101766.000000   \n",
       "mean                   3.715642             5.754437          4.395987   \n",
       "std                    5.280166             4.064081          2.985108   \n",
       "min                    1.000000             1.000000          1.000000   \n",
       "25%                    1.000000             1.000000          2.000000   \n",
       "50%                    1.000000             7.000000          4.000000   \n",
       "75%                    4.000000             7.000000          6.000000   \n",
       "max                   28.000000            25.000000         14.000000   \n",
       "\n",
       "       num_lab_procedures  num_procedures  num_medications  number_outpatient  \\\n",
       "count       101766.000000   101766.000000    101766.000000      101766.000000   \n",
       "mean            43.095641        1.339730        16.021844           0.369357   \n",
       "std             19.674362        1.705807         8.127566           1.267265   \n",
       "min              1.000000        0.000000         1.000000           0.000000   \n",
       "25%             31.000000        0.000000        10.000000           0.000000   \n",
       "50%             44.000000        1.000000        15.000000           0.000000   \n",
       "75%             57.000000        2.000000        20.000000           0.000000   \n",
       "max            132.000000        6.000000        81.000000          42.000000   \n",
       "\n",
       "       number_emergency  number_inpatient  number_diagnoses  \n",
       "count     101766.000000     101766.000000     101766.000000  \n",
       "mean           0.197836          0.635566          7.422607  \n",
       "std            0.930472          1.262863          1.933600  \n",
       "min            0.000000          0.000000          1.000000  \n",
       "25%            0.000000          0.000000          6.000000  \n",
       "50%            0.000000          0.000000          8.000000  \n",
       "75%            0.000000          1.000000          9.000000  \n",
       "max           76.000000         21.000000         16.000000  "
      ]
     },
     "execution_count": 5,
     "metadata": {},
     "output_type": "execute_result"
    }
   ],
   "source": [
    "# Checking summary of numerical columns\n",
    "data.describe()\n",
    "\n",
    "# Out of 50 - 13 columns are numerical"
   ]
  },
  {
   "cell_type": "code",
   "execution_count": 6,
   "metadata": {},
   "outputs": [
    {
     "data": {
      "text/html": [
       "<div>\n",
       "<style scoped>\n",
       "    .dataframe tbody tr th:only-of-type {\n",
       "        vertical-align: middle;\n",
       "    }\n",
       "\n",
       "    .dataframe tbody tr th {\n",
       "        vertical-align: top;\n",
       "    }\n",
       "\n",
       "    .dataframe thead th {\n",
       "        text-align: right;\n",
       "    }\n",
       "</style>\n",
       "<table border=\"1\" class=\"dataframe\">\n",
       "  <thead>\n",
       "    <tr style=\"text-align: right;\">\n",
       "      <th></th>\n",
       "      <th>unique</th>\n",
       "      <th>top</th>\n",
       "      <th>freq</th>\n",
       "    </tr>\n",
       "  </thead>\n",
       "  <tbody>\n",
       "    <tr>\n",
       "      <th>race</th>\n",
       "      <td>5</td>\n",
       "      <td>Caucasian</td>\n",
       "      <td>76099</td>\n",
       "    </tr>\n",
       "    <tr>\n",
       "      <th>gender</th>\n",
       "      <td>3</td>\n",
       "      <td>Female</td>\n",
       "      <td>54708</td>\n",
       "    </tr>\n",
       "    <tr>\n",
       "      <th>age</th>\n",
       "      <td>10</td>\n",
       "      <td>[70-80)</td>\n",
       "      <td>26068</td>\n",
       "    </tr>\n",
       "    <tr>\n",
       "      <th>weight</th>\n",
       "      <td>9</td>\n",
       "      <td>[75-100)</td>\n",
       "      <td>1336</td>\n",
       "    </tr>\n",
       "    <tr>\n",
       "      <th>payer_code</th>\n",
       "      <td>17</td>\n",
       "      <td>MC</td>\n",
       "      <td>32439</td>\n",
       "    </tr>\n",
       "    <tr>\n",
       "      <th>medical_specialty</th>\n",
       "      <td>72</td>\n",
       "      <td>InternalMedicine</td>\n",
       "      <td>14635</td>\n",
       "    </tr>\n",
       "    <tr>\n",
       "      <th>diag_1</th>\n",
       "      <td>716</td>\n",
       "      <td>428</td>\n",
       "      <td>6862</td>\n",
       "    </tr>\n",
       "    <tr>\n",
       "      <th>diag_2</th>\n",
       "      <td>748</td>\n",
       "      <td>276</td>\n",
       "      <td>6752</td>\n",
       "    </tr>\n",
       "    <tr>\n",
       "      <th>diag_3</th>\n",
       "      <td>789</td>\n",
       "      <td>250</td>\n",
       "      <td>11555</td>\n",
       "    </tr>\n",
       "    <tr>\n",
       "      <th>max_glu_serum</th>\n",
       "      <td>4</td>\n",
       "      <td>None</td>\n",
       "      <td>96420</td>\n",
       "    </tr>\n",
       "    <tr>\n",
       "      <th>A1Cresult</th>\n",
       "      <td>4</td>\n",
       "      <td>None</td>\n",
       "      <td>84748</td>\n",
       "    </tr>\n",
       "    <tr>\n",
       "      <th>metformin</th>\n",
       "      <td>4</td>\n",
       "      <td>No</td>\n",
       "      <td>81778</td>\n",
       "    </tr>\n",
       "    <tr>\n",
       "      <th>repaglinide</th>\n",
       "      <td>4</td>\n",
       "      <td>No</td>\n",
       "      <td>100227</td>\n",
       "    </tr>\n",
       "    <tr>\n",
       "      <th>nateglinide</th>\n",
       "      <td>4</td>\n",
       "      <td>No</td>\n",
       "      <td>101063</td>\n",
       "    </tr>\n",
       "    <tr>\n",
       "      <th>chlorpropamide</th>\n",
       "      <td>4</td>\n",
       "      <td>No</td>\n",
       "      <td>101680</td>\n",
       "    </tr>\n",
       "    <tr>\n",
       "      <th>glimepiride</th>\n",
       "      <td>4</td>\n",
       "      <td>No</td>\n",
       "      <td>96575</td>\n",
       "    </tr>\n",
       "    <tr>\n",
       "      <th>acetohexamide</th>\n",
       "      <td>2</td>\n",
       "      <td>No</td>\n",
       "      <td>101765</td>\n",
       "    </tr>\n",
       "    <tr>\n",
       "      <th>glipizide</th>\n",
       "      <td>4</td>\n",
       "      <td>No</td>\n",
       "      <td>89080</td>\n",
       "    </tr>\n",
       "    <tr>\n",
       "      <th>glyburide</th>\n",
       "      <td>4</td>\n",
       "      <td>No</td>\n",
       "      <td>91116</td>\n",
       "    </tr>\n",
       "    <tr>\n",
       "      <th>tolbutamide</th>\n",
       "      <td>2</td>\n",
       "      <td>No</td>\n",
       "      <td>101743</td>\n",
       "    </tr>\n",
       "    <tr>\n",
       "      <th>pioglitazone</th>\n",
       "      <td>4</td>\n",
       "      <td>No</td>\n",
       "      <td>94438</td>\n",
       "    </tr>\n",
       "    <tr>\n",
       "      <th>rosiglitazone</th>\n",
       "      <td>4</td>\n",
       "      <td>No</td>\n",
       "      <td>95401</td>\n",
       "    </tr>\n",
       "    <tr>\n",
       "      <th>acarbose</th>\n",
       "      <td>4</td>\n",
       "      <td>No</td>\n",
       "      <td>101458</td>\n",
       "    </tr>\n",
       "    <tr>\n",
       "      <th>miglitol</th>\n",
       "      <td>4</td>\n",
       "      <td>No</td>\n",
       "      <td>101728</td>\n",
       "    </tr>\n",
       "    <tr>\n",
       "      <th>troglitazone</th>\n",
       "      <td>2</td>\n",
       "      <td>No</td>\n",
       "      <td>101763</td>\n",
       "    </tr>\n",
       "    <tr>\n",
       "      <th>tolazamide</th>\n",
       "      <td>3</td>\n",
       "      <td>No</td>\n",
       "      <td>101727</td>\n",
       "    </tr>\n",
       "    <tr>\n",
       "      <th>examide</th>\n",
       "      <td>1</td>\n",
       "      <td>No</td>\n",
       "      <td>101766</td>\n",
       "    </tr>\n",
       "    <tr>\n",
       "      <th>citoglipton</th>\n",
       "      <td>1</td>\n",
       "      <td>No</td>\n",
       "      <td>101766</td>\n",
       "    </tr>\n",
       "    <tr>\n",
       "      <th>insulin</th>\n",
       "      <td>4</td>\n",
       "      <td>No</td>\n",
       "      <td>47383</td>\n",
       "    </tr>\n",
       "    <tr>\n",
       "      <th>glyburide-metformin</th>\n",
       "      <td>4</td>\n",
       "      <td>No</td>\n",
       "      <td>101060</td>\n",
       "    </tr>\n",
       "    <tr>\n",
       "      <th>glipizide-metformin</th>\n",
       "      <td>2</td>\n",
       "      <td>No</td>\n",
       "      <td>101753</td>\n",
       "    </tr>\n",
       "    <tr>\n",
       "      <th>glimepiride-pioglitazone</th>\n",
       "      <td>2</td>\n",
       "      <td>No</td>\n",
       "      <td>101765</td>\n",
       "    </tr>\n",
       "    <tr>\n",
       "      <th>metformin-rosiglitazone</th>\n",
       "      <td>2</td>\n",
       "      <td>No</td>\n",
       "      <td>101764</td>\n",
       "    </tr>\n",
       "    <tr>\n",
       "      <th>metformin-pioglitazone</th>\n",
       "      <td>2</td>\n",
       "      <td>No</td>\n",
       "      <td>101765</td>\n",
       "    </tr>\n",
       "    <tr>\n",
       "      <th>change</th>\n",
       "      <td>2</td>\n",
       "      <td>No</td>\n",
       "      <td>54755</td>\n",
       "    </tr>\n",
       "    <tr>\n",
       "      <th>diabetesMed</th>\n",
       "      <td>2</td>\n",
       "      <td>Yes</td>\n",
       "      <td>78363</td>\n",
       "    </tr>\n",
       "    <tr>\n",
       "      <th>readmitted</th>\n",
       "      <td>3</td>\n",
       "      <td>NO</td>\n",
       "      <td>54864</td>\n",
       "    </tr>\n",
       "  </tbody>\n",
       "</table>\n",
       "</div>"
      ],
      "text/plain": [
       "                         unique               top    freq\n",
       "race                          5         Caucasian   76099\n",
       "gender                        3            Female   54708\n",
       "age                          10           [70-80)   26068\n",
       "weight                        9          [75-100)    1336\n",
       "payer_code                   17                MC   32439\n",
       "medical_specialty            72  InternalMedicine   14635\n",
       "diag_1                      716               428    6862\n",
       "diag_2                      748               276    6752\n",
       "diag_3                      789               250   11555\n",
       "max_glu_serum                 4              None   96420\n",
       "A1Cresult                     4              None   84748\n",
       "metformin                     4                No   81778\n",
       "repaglinide                   4                No  100227\n",
       "nateglinide                   4                No  101063\n",
       "chlorpropamide                4                No  101680\n",
       "glimepiride                   4                No   96575\n",
       "acetohexamide                 2                No  101765\n",
       "glipizide                     4                No   89080\n",
       "glyburide                     4                No   91116\n",
       "tolbutamide                   2                No  101743\n",
       "pioglitazone                  4                No   94438\n",
       "rosiglitazone                 4                No   95401\n",
       "acarbose                      4                No  101458\n",
       "miglitol                      4                No  101728\n",
       "troglitazone                  2                No  101763\n",
       "tolazamide                    3                No  101727\n",
       "examide                       1                No  101766\n",
       "citoglipton                   1                No  101766\n",
       "insulin                       4                No   47383\n",
       "glyburide-metformin           4                No  101060\n",
       "glipizide-metformin           2                No  101753\n",
       "glimepiride-pioglitazone      2                No  101765\n",
       "metformin-rosiglitazone       2                No  101764\n",
       "metformin-pioglitazone        2                No  101765\n",
       "change                        2                No   54755\n",
       "diabetesMed                   2               Yes   78363\n",
       "readmitted                    3                NO   54864"
      ]
     },
     "execution_count": 6,
     "metadata": {},
     "output_type": "execute_result"
    }
   ],
   "source": [
    "# Checking summary of numerical columns\n",
    "data.describe(include = ['O']).T.drop('count', axis=1)\n",
    "# Out of 50 - 37 columns are categorical"
   ]
  },
  {
   "cell_type": "markdown",
   "metadata": {},
   "source": [
    "# Data Preparation\n",
    "Each step has been taken based on study of the attributes. Have tried explaining what I am thinking and trying to do here."
   ]
  },
  {
   "cell_type": "markdown",
   "metadata": {},
   "source": [
    "### Remove Discharge IDs relating to Hospice or Death\n",
    "As these are people who are either terminally ill or dead. So this would not bring out the real picture as per my understanding. Check details of disposition ids in IDs_mapping.csv in the data folder."
   ]
  },
  {
   "cell_type": "code",
   "execution_count": 7,
   "metadata": {},
   "outputs": [],
   "source": [
    "data = data.loc[~data.discharge_disposition_id.isin([11,13,14,18,20,21])]"
   ]
  },
  {
   "cell_type": "code",
   "execution_count": 8,
   "metadata": {},
   "outputs": [
    {
     "data": {
      "text/plain": [
       "(95660, 50)"
      ]
     },
     "execution_count": 8,
     "metadata": {},
     "output_type": "execute_result"
    }
   ],
   "source": [
    "data.shape\n",
    "# 101766 - orignal shape\n",
    "# Values dropped by about 6000"
   ]
  },
  {
   "cell_type": "code",
   "execution_count": 9,
   "metadata": {},
   "outputs": [
    {
     "data": {
      "text/html": [
       "<div>\n",
       "<style scoped>\n",
       "    .dataframe tbody tr th:only-of-type {\n",
       "        vertical-align: middle;\n",
       "    }\n",
       "\n",
       "    .dataframe tbody tr th {\n",
       "        vertical-align: top;\n",
       "    }\n",
       "\n",
       "    .dataframe thead th {\n",
       "        text-align: right;\n",
       "    }\n",
       "</style>\n",
       "<table border=\"1\" class=\"dataframe\">\n",
       "  <thead>\n",
       "    <tr style=\"text-align: right;\">\n",
       "      <th></th>\n",
       "      <th>unique</th>\n",
       "      <th>top</th>\n",
       "      <th>freq</th>\n",
       "    </tr>\n",
       "  </thead>\n",
       "  <tbody>\n",
       "    <tr>\n",
       "      <th>race</th>\n",
       "      <td>5</td>\n",
       "      <td>Caucasian</td>\n",
       "      <td>71707</td>\n",
       "    </tr>\n",
       "    <tr>\n",
       "      <th>gender</th>\n",
       "      <td>3</td>\n",
       "      <td>Female</td>\n",
       "      <td>51492</td>\n",
       "    </tr>\n",
       "    <tr>\n",
       "      <th>age</th>\n",
       "      <td>10</td>\n",
       "      <td>[70-80)</td>\n",
       "      <td>24244</td>\n",
       "    </tr>\n",
       "    <tr>\n",
       "      <th>weight</th>\n",
       "      <td>9</td>\n",
       "      <td>[75-100)</td>\n",
       "      <td>1297</td>\n",
       "    </tr>\n",
       "    <tr>\n",
       "      <th>payer_code</th>\n",
       "      <td>17</td>\n",
       "      <td>MC</td>\n",
       "      <td>31326</td>\n",
       "    </tr>\n",
       "    <tr>\n",
       "      <th>medical_specialty</th>\n",
       "      <td>72</td>\n",
       "      <td>InternalMedicine</td>\n",
       "      <td>14211</td>\n",
       "    </tr>\n",
       "    <tr>\n",
       "      <th>diag_1</th>\n",
       "      <td>712</td>\n",
       "      <td>428</td>\n",
       "      <td>6368</td>\n",
       "    </tr>\n",
       "    <tr>\n",
       "      <th>diag_2</th>\n",
       "      <td>744</td>\n",
       "      <td>276</td>\n",
       "      <td>6476</td>\n",
       "    </tr>\n",
       "    <tr>\n",
       "      <th>diag_3</th>\n",
       "      <td>784</td>\n",
       "      <td>250</td>\n",
       "      <td>10947</td>\n",
       "    </tr>\n",
       "    <tr>\n",
       "      <th>max_glu_serum</th>\n",
       "      <td>4</td>\n",
       "      <td>None</td>\n",
       "      <td>90508</td>\n",
       "    </tr>\n",
       "    <tr>\n",
       "      <th>A1Cresult</th>\n",
       "      <td>4</td>\n",
       "      <td>None</td>\n",
       "      <td>79491</td>\n",
       "    </tr>\n",
       "    <tr>\n",
       "      <th>metformin</th>\n",
       "      <td>4</td>\n",
       "      <td>No</td>\n",
       "      <td>76615</td>\n",
       "    </tr>\n",
       "    <tr>\n",
       "      <th>repaglinide</th>\n",
       "      <td>4</td>\n",
       "      <td>No</td>\n",
       "      <td>94166</td>\n",
       "    </tr>\n",
       "    <tr>\n",
       "      <th>nateglinide</th>\n",
       "      <td>4</td>\n",
       "      <td>No</td>\n",
       "      <td>94973</td>\n",
       "    </tr>\n",
       "    <tr>\n",
       "      <th>chlorpropamide</th>\n",
       "      <td>4</td>\n",
       "      <td>No</td>\n",
       "      <td>95598</td>\n",
       "    </tr>\n",
       "    <tr>\n",
       "      <th>glimepiride</th>\n",
       "      <td>4</td>\n",
       "      <td>No</td>\n",
       "      <td>90620</td>\n",
       "    </tr>\n",
       "    <tr>\n",
       "      <th>acetohexamide</th>\n",
       "      <td>2</td>\n",
       "      <td>No</td>\n",
       "      <td>95659</td>\n",
       "    </tr>\n",
       "    <tr>\n",
       "      <th>glipizide</th>\n",
       "      <td>4</td>\n",
       "      <td>No</td>\n",
       "      <td>83425</td>\n",
       "    </tr>\n",
       "    <tr>\n",
       "      <th>glyburide</th>\n",
       "      <td>4</td>\n",
       "      <td>No</td>\n",
       "      <td>85991</td>\n",
       "    </tr>\n",
       "    <tr>\n",
       "      <th>tolbutamide</th>\n",
       "      <td>2</td>\n",
       "      <td>No</td>\n",
       "      <td>95639</td>\n",
       "    </tr>\n",
       "    <tr>\n",
       "      <th>pioglitazone</th>\n",
       "      <td>4</td>\n",
       "      <td>No</td>\n",
       "      <td>88581</td>\n",
       "    </tr>\n",
       "    <tr>\n",
       "      <th>rosiglitazone</th>\n",
       "      <td>4</td>\n",
       "      <td>No</td>\n",
       "      <td>89569</td>\n",
       "    </tr>\n",
       "    <tr>\n",
       "      <th>acarbose</th>\n",
       "      <td>4</td>\n",
       "      <td>No</td>\n",
       "      <td>95372</td>\n",
       "    </tr>\n",
       "    <tr>\n",
       "      <th>miglitol</th>\n",
       "      <td>4</td>\n",
       "      <td>No</td>\n",
       "      <td>95624</td>\n",
       "    </tr>\n",
       "    <tr>\n",
       "      <th>troglitazone</th>\n",
       "      <td>2</td>\n",
       "      <td>No</td>\n",
       "      <td>95657</td>\n",
       "    </tr>\n",
       "    <tr>\n",
       "      <th>tolazamide</th>\n",
       "      <td>2</td>\n",
       "      <td>No</td>\n",
       "      <td>95631</td>\n",
       "    </tr>\n",
       "    <tr>\n",
       "      <th>examide</th>\n",
       "      <td>1</td>\n",
       "      <td>No</td>\n",
       "      <td>95660</td>\n",
       "    </tr>\n",
       "    <tr>\n",
       "      <th>citoglipton</th>\n",
       "      <td>1</td>\n",
       "      <td>No</td>\n",
       "      <td>95660</td>\n",
       "    </tr>\n",
       "    <tr>\n",
       "      <th>insulin</th>\n",
       "      <td>4</td>\n",
       "      <td>No</td>\n",
       "      <td>43450</td>\n",
       "    </tr>\n",
       "    <tr>\n",
       "      <th>glyburide-metformin</th>\n",
       "      <td>4</td>\n",
       "      <td>No</td>\n",
       "      <td>94962</td>\n",
       "    </tr>\n",
       "    <tr>\n",
       "      <th>glipizide-metformin</th>\n",
       "      <td>2</td>\n",
       "      <td>No</td>\n",
       "      <td>95647</td>\n",
       "    </tr>\n",
       "    <tr>\n",
       "      <th>glimepiride-pioglitazone</th>\n",
       "      <td>2</td>\n",
       "      <td>No</td>\n",
       "      <td>95659</td>\n",
       "    </tr>\n",
       "    <tr>\n",
       "      <th>metformin-rosiglitazone</th>\n",
       "      <td>2</td>\n",
       "      <td>No</td>\n",
       "      <td>95658</td>\n",
       "    </tr>\n",
       "    <tr>\n",
       "      <th>metformin-pioglitazone</th>\n",
       "      <td>2</td>\n",
       "      <td>No</td>\n",
       "      <td>95659</td>\n",
       "    </tr>\n",
       "    <tr>\n",
       "      <th>change</th>\n",
       "      <td>2</td>\n",
       "      <td>No</td>\n",
       "      <td>50643</td>\n",
       "    </tr>\n",
       "    <tr>\n",
       "      <th>diabetesMed</th>\n",
       "      <td>2</td>\n",
       "      <td>Yes</td>\n",
       "      <td>74440</td>\n",
       "    </tr>\n",
       "    <tr>\n",
       "      <th>readmitted</th>\n",
       "      <td>3</td>\n",
       "      <td>NO</td>\n",
       "      <td>50330</td>\n",
       "    </tr>\n",
       "  </tbody>\n",
       "</table>\n",
       "</div>"
      ],
      "text/plain": [
       "                         unique               top   freq\n",
       "race                          5         Caucasian  71707\n",
       "gender                        3            Female  51492\n",
       "age                          10           [70-80)  24244\n",
       "weight                        9          [75-100)   1297\n",
       "payer_code                   17                MC  31326\n",
       "medical_specialty            72  InternalMedicine  14211\n",
       "diag_1                      712               428   6368\n",
       "diag_2                      744               276   6476\n",
       "diag_3                      784               250  10947\n",
       "max_glu_serum                 4              None  90508\n",
       "A1Cresult                     4              None  79491\n",
       "metformin                     4                No  76615\n",
       "repaglinide                   4                No  94166\n",
       "nateglinide                   4                No  94973\n",
       "chlorpropamide                4                No  95598\n",
       "glimepiride                   4                No  90620\n",
       "acetohexamide                 2                No  95659\n",
       "glipizide                     4                No  83425\n",
       "glyburide                     4                No  85991\n",
       "tolbutamide                   2                No  95639\n",
       "pioglitazone                  4                No  88581\n",
       "rosiglitazone                 4                No  89569\n",
       "acarbose                      4                No  95372\n",
       "miglitol                      4                No  95624\n",
       "troglitazone                  2                No  95657\n",
       "tolazamide                    2                No  95631\n",
       "examide                       1                No  95660\n",
       "citoglipton                   1                No  95660\n",
       "insulin                       4                No  43450\n",
       "glyburide-metformin           4                No  94962\n",
       "glipizide-metformin           2                No  95647\n",
       "glimepiride-pioglitazone      2                No  95659\n",
       "metformin-rosiglitazone       2                No  95658\n",
       "metformin-pioglitazone        2                No  95659\n",
       "change                        2                No  50643\n",
       "diabetesMed                   2               Yes  74440\n",
       "readmitted                    3                NO  50330"
      ]
     },
     "execution_count": 9,
     "metadata": {},
     "output_type": "execute_result"
    }
   ],
   "source": [
    "# Again checking the categorical values and describing them\n",
    "# Checking summary of numerical columns\n",
    "data.describe(include = ['O']).T.drop('count', axis=1)\n",
    "# Out of 50 - 37 columns are categorical"
   ]
  },
  {
   "cell_type": "markdown",
   "metadata": {},
   "source": [
    "### Create Target Variable\n",
    "We are looking into readmissions within 30 days, which count for our cases. Rest all are false scenarios for us."
   ]
  },
  {
   "cell_type": "code",
   "execution_count": 10,
   "metadata": {},
   "outputs": [],
   "source": [
    "data['Target_Label'] = (data.readmitted == '<30').astype(int)"
   ]
  },
  {
   "cell_type": "markdown",
   "metadata": {},
   "source": [
    "### Numerical Predictors\n",
    "Pulling some numerical features, that I feel, should be looked upon."
   ]
  },
  {
   "cell_type": "code",
   "execution_count": 11,
   "metadata": {},
   "outputs": [],
   "source": [
    "# Out of overall 13 numerical features\n",
    "#encounter_id\tpatient_nbr\tadmission_type_id\tdischarge_disposition_id\tadmission_source_id\ttime_in_hospital\tnum_lab_procedures\tnum_procedures\tnum_medications\tnumber_outpatient\tnumber_emergency\tnumber_inpatient\tnumber_diagnoses\n",
    "# Removing the following as they are not related to patients condition, rather for identification\n",
    "#  encounter_id, patient_nbr, admission_type_id, discharge_disposition_id, admission_source_id\n",
    "# Using the below columns\n",
    "# time_in_hospital\tnum_lab_procedures\tnum_procedures\n",
    "# num_medications\tnumber_outpatient\tnumber_emergency\tnumber_inpatient\tnumber_diagnoses\n",
    "\n",
    "num_col_names = ['time_in_hospital','num_lab_procedures', 'num_procedures', 'num_medications',\n",
    "                 'number_outpatient', 'number_emergency', 'number_inpatient','number_diagnoses']"
   ]
  },
  {
   "cell_type": "markdown",
   "metadata": {},
   "source": [
    "### Categorical Predictors\n",
    "Below is list of all 37 categorical features."
   ]
  },
  {
   "cell_type": "code",
   "execution_count": 12,
   "metadata": {},
   "outputs": [],
   "source": [
    "# Below is list of 37 Categorical columns\n",
    "# race, ----------- WE WILL USE\n",
    "# gender,----------- WE WILL USE\n",
    "# age,----------- WE WILL USE - WILL BREAKDOWN INTO CATEGORY \n",
    "# weight,----------- WE WILL USE - WILL BREAKDOWN INTO CATEGORY\n",
    "#payer_code\t17\tMC\t32439 ---- ?????????  THIS is FOR INSURANCE IDENTIFICATION\n",
    "#medical_specialty\t72\tInternalMedicine\t14635 ?????? WE MAY NOT BE ABLE TO CATEGORIZE THIS\n",
    "#diag_1\t716\t428\t6862 ?????? WE MAY NOT BE ABLE TO CATEGORIZE THIS\n",
    "#diag_2\t748\t276\t6752 ?????? WE MAY NOT BE ABLE TO CATEGORIZE THIS\n",
    "#diag_3\t789\t250\t11555 ?????? WE MAY NOT BE ABLE TO CATEGORIZE THIS\n",
    "#max_glu_serum\t4\tNone\t96420----------- WE WILL USE\n",
    "#A1Cresult\t4\tNone\t84748----------- WE WILL USE\n",
    "#metformin\t4\tNo\t81778----------- WE WILL USE\n",
    "#repaglinide\t4\tNo\t100227----------- WE WILL USE\n",
    "#nateglinide\t4\tNo\t101063----------- WE WILL USE\n",
    "#chlorpropamide\t4\tNo\t101680----------- WE WILL USE\n",
    "#glimepiride\t4\tNo\t96575----------- WE WILL USE\n",
    "#acetohexamide\t2\tNo\t101765----------- WE WILL USE\n",
    "#glipizide\t4\tNo\t89080----------- WE WILL USE\n",
    "#glyburide\t4\tNo\t91116----------- WE WILL USE\n",
    "#tolbutamide\t2\tNo\t101743----------- WE WILL USE\n",
    "#pioglitazone\t4\tNo\t94438----------- WE WILL USE\n",
    "#rosiglitazone\t4\tNo\t95401----------- WE WILL USE\n",
    "#acarbose\t4\tNo\t101458----------- WE WILL USE\n",
    "#miglitol\t4\tNo\t101728----------- WE WILL USE\n",
    "#troglitazone\t2\tNo\t101763----------- WE WILL USE\n",
    "#tolazamide\t3\tNo\t101727----------- WE WILL USE\n",
    "#examide\t1\tNo\t101766----------- WE WILL USE\n",
    "#citoglipton\t1\tNo\t101766----------- WE WILL USE\n",
    "#insulin\t4\tNo\t47383----------- WE WILL USE\n",
    "#glyburide-metformin\t4\tNo\t101060----------- WE WILL USE\n",
    "#glipizide-metformin\t2\tNo\t101753----------- WE WILL USE\n",
    "#glimepiride-pioglitazone\t2\tNo\t101765----------- WE WILL USE\n",
    "#metformin-rosiglitazone\t2\tNo\t101764----------- WE WILL USE\n",
    "#metformin-pioglitazone\t2\tNo\t101765----------- WE WILL USE\n",
    "#change\t2\tNo\t54755 ----------- WE WILL USE\n",
    "#diabetesMed\t2\tYes\t78363----------- WE WILL USE\n",
    "#readmitted --- We used this to calculate target variable. So will not use\n",
    "\n",
    "\n",
    "# Below are 27 Category Columns left that we use. We will break weight and age in groups\n",
    "cat_col_names = ['race', 'gender', 'max_glu_serum', 'A1Cresult', 'metformin', 'repaglinide',\\\n",
    "                 'nateglinide', 'chlorpropamide', 'glimepiride', 'acetohexamide', 'glipizide',\\\n",
    "                 'glyburide', 'tolbutamide', 'pioglitazone', 'rosiglitazone', 'acarbose',\\\n",
    "                 'miglitol', 'troglitazone','tolazamide', 'insulin', 'glyburide-metformin',\\\n",
    "                 'glipizide-metformin','glimepiride-pioglitazone', 'metformin-rosiglitazone',\\\n",
    "                 'metformin-pioglitazone', 'change', 'diabetesMed']\n",
    "\n"
   ]
  },
  {
   "cell_type": "code",
   "execution_count": 13,
   "metadata": {},
   "outputs": [
    {
     "name": "stdout",
     "output_type": "stream",
     "text": [
      "-----------\n",
      "race\n",
      "-----------\n",
      "Caucasian\n",
      "AfricanAmerican\n",
      "nan\n",
      "Other\n",
      "Asian\n",
      "Hispanic\n",
      "-----------\n",
      "gender\n",
      "-----------\n",
      "Female\n",
      "Male\n",
      "Unknown/Invalid\n",
      "-----------\n",
      "max_glu_serum\n",
      "-----------\n",
      "None\n",
      ">300\n",
      "Norm\n",
      ">200\n",
      "-----------\n",
      "A1Cresult\n",
      "-----------\n",
      "None\n",
      ">7\n",
      ">8\n",
      "Norm\n",
      "-----------\n",
      "metformin\n",
      "-----------\n",
      "No\n",
      "Steady\n",
      "Up\n",
      "Down\n",
      "-----------\n",
      "repaglinide\n",
      "-----------\n",
      "No\n",
      "Up\n",
      "Steady\n",
      "Down\n",
      "-----------\n",
      "nateglinide\n",
      "-----------\n",
      "No\n",
      "Steady\n",
      "Down\n",
      "Up\n",
      "-----------\n",
      "chlorpropamide\n",
      "-----------\n",
      "No\n",
      "Steady\n",
      "Down\n",
      "Up\n",
      "-----------\n",
      "glimepiride\n",
      "-----------\n",
      "No\n",
      "Steady\n",
      "Down\n",
      "Up\n",
      "-----------\n",
      "acetohexamide\n",
      "-----------\n",
      "No\n",
      "Steady\n",
      "-----------\n",
      "glipizide\n",
      "-----------\n",
      "No\n",
      "Steady\n",
      "Up\n",
      "Down\n",
      "-----------\n",
      "glyburide\n",
      "-----------\n",
      "No\n",
      "Steady\n",
      "Up\n",
      "Down\n",
      "-----------\n",
      "tolbutamide\n",
      "-----------\n",
      "No\n",
      "Steady\n",
      "-----------\n",
      "pioglitazone\n",
      "-----------\n",
      "No\n",
      "Steady\n",
      "Up\n",
      "Down\n",
      "-----------\n",
      "rosiglitazone\n",
      "-----------\n",
      "No\n",
      "Steady\n",
      "Up\n",
      "Down\n",
      "-----------\n",
      "acarbose\n",
      "-----------\n",
      "No\n",
      "Steady\n",
      "Up\n",
      "Down\n",
      "-----------\n",
      "miglitol\n",
      "-----------\n",
      "No\n",
      "Steady\n",
      "Down\n",
      "Up\n",
      "-----------\n",
      "troglitazone\n",
      "-----------\n",
      "No\n",
      "Steady\n",
      "-----------\n",
      "tolazamide\n",
      "-----------\n",
      "No\n",
      "Steady\n",
      "-----------\n",
      "insulin\n",
      "-----------\n",
      "No\n",
      "Up\n",
      "Steady\n",
      "Down\n",
      "-----------\n",
      "glyburide-metformin\n",
      "-----------\n",
      "No\n",
      "Steady\n",
      "Down\n",
      "Up\n",
      "-----------\n",
      "glipizide-metformin\n",
      "-----------\n",
      "No\n",
      "Steady\n",
      "-----------\n",
      "glimepiride-pioglitazone\n",
      "-----------\n",
      "No\n",
      "Steady\n",
      "-----------\n",
      "metformin-rosiglitazone\n",
      "-----------\n",
      "No\n",
      "Steady\n",
      "-----------\n",
      "metformin-pioglitazone\n",
      "-----------\n",
      "No\n",
      "Steady\n",
      "-----------\n",
      "change\n",
      "-----------\n",
      "No\n",
      "Ch\n",
      "-----------\n",
      "diabetesMed\n",
      "-----------\n",
      "No\n",
      "Yes\n"
     ]
    }
   ],
   "source": [
    "# Checking Unique Values of all columns - categorical\n",
    "# data.describe(include = ['O']).T.drop('count', axis=1)\n",
    "for column_name in cat_col_names:\n",
    "    print(\"-----------\")\n",
    "    print(column_name)\n",
    "    print(\"-----------\")\n",
    "    s = data[column_name].unique()\n",
    "    for i in s:\n",
    "        print(str(i))"
   ]
  },
  {
   "cell_type": "code",
   "execution_count": 14,
   "metadata": {},
   "outputs": [],
   "source": [
    "# based on above, we will set some dictionaries.\n",
    "# We will use them to create new columns\n",
    "stat_dict = {'No':-1, \n",
    "            'Down':1, \n",
    "            'Steady':2, \n",
    "            'Up':3}\n",
    "\n",
    "gender_dict = { 'Female':0,\n",
    "                'Male':1, \n",
    "                'Unknown/Invalid':2}\n",
    "\n",
    "change_dict = { 'No':0,\n",
    "                'Ch':1,}\n",
    "\n",
    "diabetesMed_dict = { 'No':0,\n",
    "                'Yes':1,}\n",
    "\n",
    "\n",
    "max_glu_serum_dict = {  'None':0,\n",
    "                        'Norm':1, \n",
    "                        '>200':2,\n",
    "                        '>300':3}\n",
    "\n",
    "A1Cresult_dict = {      'None':0,\n",
    "                        'Norm':1, \n",
    "                        '>7':2,\n",
    "                        '>8':3}\n",
    "\n",
    "# Create Age Group Variable\n",
    "age_dict = {'[0-10)':0, \n",
    "            '[10-20)':10, \n",
    "            '[20-30)':20, \n",
    "            '[30-40)':30, \n",
    "            '[40-50)':40, \n",
    "            '[50-60)':50,\n",
    "            '[60-70)':60, \n",
    "            '[70-80)':70, \n",
    "            '[80-90)':80, \n",
    "            '[90-100)':90}"
   ]
  },
  {
   "cell_type": "code",
   "execution_count": 15,
   "metadata": {},
   "outputs": [],
   "source": [
    "data['age_group'] = data.age.replace(age_dict)\n",
    "\n",
    "# Create Age Variable\n",
    "data['has_weight'] = data.weight.notnull().astype('int')\n",
    "\n",
    "data['gender_vals'] = data.gender.replace(gender_dict)\n",
    "\n",
    "data['max_glu_serum_vals'] = data.max_glu_serum.replace(max_glu_serum_dict)\n",
    "\n",
    "data['A1Cresult_vals'] = data.A1Cresult.replace(A1Cresult_dict)\n",
    "\n",
    "data['metformin_vals'] = data.metformin.replace(stat_dict)\n",
    "\n",
    "data['repaglinide_vals'] = data.repaglinide.replace(stat_dict)\n",
    "\n",
    "data['nateglinide_vals'] = data.nateglinide.replace(stat_dict)\n",
    "\n",
    "data['chlorpropamide_vals'] = data.chlorpropamide.replace(stat_dict)\n",
    "\n",
    "data['glimepiride_vals'] = data.glimepiride.replace(stat_dict)\n",
    "\n",
    "data['acetohexamide_vals'] = data.acetohexamide.replace(stat_dict)\n",
    "\n",
    "data['glipizide_vals'] = data.glipizide.replace(stat_dict)\n",
    "\n",
    "data['glyburide_vals'] = data.glyburide.replace(stat_dict)\n",
    "\n",
    "data['tolbutamide_vals'] = data.tolbutamide.replace(stat_dict)\n",
    "\n",
    "data['pioglitazone_vals'] = data.pioglitazone.replace(stat_dict)\n",
    "\n",
    "data['rosiglitazone_vals'] = data.rosiglitazone.replace(stat_dict)\n",
    "\n",
    "data['acarbose_vals'] = data.acarbose.replace(stat_dict)\n",
    "\n",
    "data['troglitazone_vals'] = data.troglitazone.replace(stat_dict)\n",
    "\n",
    "data['tolazamide_vals'] = data.tolazamide.replace(stat_dict)\n",
    "\n",
    "data['insulin_vals'] = data.insulin.replace(stat_dict)\n",
    "\n",
    "data['glyburide-metformin_vals'] = data['glyburide-metformin'].replace(stat_dict)\n",
    "\n",
    "data['glipizide-metformin_vals'] = data['glipizide-metformin'].replace(stat_dict)\n",
    "\n",
    "data['glimepiride-pioglitazone_vals'] = data['glimepiride-pioglitazone'].replace(stat_dict)\n",
    "\n",
    "data['metformin-rosiglitazone_vals'] = data['metformin-rosiglitazone'].replace(stat_dict)\n",
    "\n",
    "data['metformin-pioglitazone_vals'] = data['metformin-pioglitazone'].replace(stat_dict)\n",
    "\n",
    "data['change_vals'] = data.change.replace(change_dict)\n",
    "\n",
    "data['diabetesMed_vals'] = data.diabetesMed.replace(diabetesMed_dict)\n",
    "\n",
    "# Save feature names\n",
    "features = ['age_group', 'has_weight', 'gender_vals', 'max_glu_serum_vals' , 'A1Cresult_vals', 'metformin_vals', \n",
    "'repaglinide_vals',\n",
    "'nateglinide_vals',\n",
    "'chlorpropamide_vals',\n",
    "'glimepiride_vals',\n",
    "'acetohexamide_vals',\n",
    "'glipizide_vals',\n",
    "'glyburide_vals',\n",
    "'tolbutamide_vals',\n",
    "'pioglitazone_vals',\n",
    "'rosiglitazone_vals',\n",
    "'acarbose_vals',\n",
    "'troglitazone_vals',\n",
    "'tolazamide_vals',\n",
    "'insulin_vals',\n",
    "'glyburide-metformin_vals',\n",
    "'glipizide-metformin_vals',\n",
    "'glimepiride-pioglitazone_vals',\n",
    "'metformin-rosiglitazone_vals',\n",
    "'metformin-pioglitazone_vals',\n",
    "'change_vals',\n",
    "'diabetesMed_vals']"
   ]
  },
  {
   "cell_type": "code",
   "execution_count": 16,
   "metadata": {},
   "outputs": [],
   "source": [
    "# Fill NA with 'UNK'\n",
    "data['race'] = data['race'].fillna('UNK')"
   ]
  },
  {
   "cell_type": "code",
   "execution_count": 17,
   "metadata": {},
   "outputs": [
    {
     "data": {
      "text/plain": [
       "[nan,\n",
       " 'InternalMedicine',\n",
       " 'Emergency/Trauma',\n",
       " 'Family/GeneralPractice',\n",
       " 'Cardiology',\n",
       " 'Surgery-General',\n",
       " 'Nephrology',\n",
       " 'Orthopedics-Reconstructive',\n",
       " 'Orthopedics',\n",
       " 'Radiologist']"
      ]
     },
     "execution_count": 17,
     "metadata": {},
     "output_type": "execute_result"
    }
   ],
   "source": [
    "## REMOVE\n",
    "## Get top 10 medical specialties\n",
    "top_10_spec = list(data['medical_specialty'].value_counts(dropna=False)[0:10].index)\n",
    "top_10_spec"
   ]
  },
  {
   "cell_type": "markdown",
   "metadata": {},
   "source": [
    "# EDA"
   ]
  },
  {
   "cell_type": "code",
   "execution_count": 18,
   "metadata": {},
   "outputs": [
    {
     "data": {
      "text/html": [
       "<div>\n",
       "<style scoped>\n",
       "    .dataframe tbody tr th:only-of-type {\n",
       "        vertical-align: middle;\n",
       "    }\n",
       "\n",
       "    .dataframe tbody tr th {\n",
       "        vertical-align: top;\n",
       "    }\n",
       "\n",
       "    .dataframe thead th {\n",
       "        text-align: right;\n",
       "    }\n",
       "</style>\n",
       "<table border=\"1\" class=\"dataframe\">\n",
       "  <thead>\n",
       "    <tr style=\"text-align: right;\">\n",
       "      <th></th>\n",
       "      <th>mean</th>\n",
       "      <th>std</th>\n",
       "      <th>min</th>\n",
       "      <th>25%</th>\n",
       "      <th>50%</th>\n",
       "      <th>75%</th>\n",
       "      <th>max</th>\n",
       "    </tr>\n",
       "  </thead>\n",
       "  <tbody>\n",
       "    <tr>\n",
       "      <th>encounter_id</th>\n",
       "      <td>1.692252e+08</td>\n",
       "      <td>1.021830e+08</td>\n",
       "      <td>12522.0</td>\n",
       "      <td>91983594.0</td>\n",
       "      <td>155503059.0</td>\n",
       "      <td>234109099.5</td>\n",
       "      <td>443867222.0</td>\n",
       "    </tr>\n",
       "    <tr>\n",
       "      <th>patient_nbr</th>\n",
       "      <td>5.599053e+07</td>\n",
       "      <td>3.839442e+07</td>\n",
       "      <td>135.0</td>\n",
       "      <td>23858037.0</td>\n",
       "      <td>50234418.0</td>\n",
       "      <td>88542333.0</td>\n",
       "      <td>189502619.0</td>\n",
       "    </tr>\n",
       "    <tr>\n",
       "      <th>admission_type_id</th>\n",
       "      <td>2.043205e+00</td>\n",
       "      <td>1.462060e+00</td>\n",
       "      <td>1.0</td>\n",
       "      <td>1.0</td>\n",
       "      <td>1.0</td>\n",
       "      <td>3.0</td>\n",
       "      <td>8.0</td>\n",
       "    </tr>\n",
       "    <tr>\n",
       "      <th>discharge_disposition_id</th>\n",
       "      <td>2.960391e+00</td>\n",
       "      <td>4.419180e+00</td>\n",
       "      <td>1.0</td>\n",
       "      <td>1.0</td>\n",
       "      <td>1.0</td>\n",
       "      <td>3.0</td>\n",
       "      <td>28.0</td>\n",
       "    </tr>\n",
       "    <tr>\n",
       "      <th>admission_source_id</th>\n",
       "      <td>5.765952e+00</td>\n",
       "      <td>4.106628e+00</td>\n",
       "      <td>1.0</td>\n",
       "      <td>1.0</td>\n",
       "      <td>7.0</td>\n",
       "      <td>7.0</td>\n",
       "      <td>25.0</td>\n",
       "    </tr>\n",
       "    <tr>\n",
       "      <th>time_in_hospital</th>\n",
       "      <td>4.345892e+00</td>\n",
       "      <td>2.949473e+00</td>\n",
       "      <td>1.0</td>\n",
       "      <td>2.0</td>\n",
       "      <td>4.0</td>\n",
       "      <td>6.0</td>\n",
       "      <td>14.0</td>\n",
       "    </tr>\n",
       "    <tr>\n",
       "      <th>num_lab_procedures</th>\n",
       "      <td>4.290168e+01</td>\n",
       "      <td>1.975141e+01</td>\n",
       "      <td>1.0</td>\n",
       "      <td>31.0</td>\n",
       "      <td>44.0</td>\n",
       "      <td>57.0</td>\n",
       "      <td>132.0</td>\n",
       "    </tr>\n",
       "    <tr>\n",
       "      <th>num_procedures</th>\n",
       "      <td>1.324713e+00</td>\n",
       "      <td>1.696323e+00</td>\n",
       "      <td>0.0</td>\n",
       "      <td>0.0</td>\n",
       "      <td>1.0</td>\n",
       "      <td>2.0</td>\n",
       "      <td>6.0</td>\n",
       "    </tr>\n",
       "    <tr>\n",
       "      <th>num_medications</th>\n",
       "      <td>1.597005e+01</td>\n",
       "      <td>8.040273e+00</td>\n",
       "      <td>1.0</td>\n",
       "      <td>10.0</td>\n",
       "      <td>15.0</td>\n",
       "      <td>20.0</td>\n",
       "      <td>81.0</td>\n",
       "    </tr>\n",
       "    <tr>\n",
       "      <th>number_outpatient</th>\n",
       "      <td>3.817897e-01</td>\n",
       "      <td>1.286097e+00</td>\n",
       "      <td>0.0</td>\n",
       "      <td>0.0</td>\n",
       "      <td>0.0</td>\n",
       "      <td>0.0</td>\n",
       "      <td>42.0</td>\n",
       "    </tr>\n",
       "    <tr>\n",
       "      <th>number_emergency</th>\n",
       "      <td>2.057182e-01</td>\n",
       "      <td>9.545909e-01</td>\n",
       "      <td>0.0</td>\n",
       "      <td>0.0</td>\n",
       "      <td>0.0</td>\n",
       "      <td>0.0</td>\n",
       "      <td>76.0</td>\n",
       "    </tr>\n",
       "    <tr>\n",
       "      <th>number_inpatient</th>\n",
       "      <td>6.307652e-01</td>\n",
       "      <td>1.263194e+00</td>\n",
       "      <td>0.0</td>\n",
       "      <td>0.0</td>\n",
       "      <td>0.0</td>\n",
       "      <td>1.0</td>\n",
       "      <td>21.0</td>\n",
       "    </tr>\n",
       "    <tr>\n",
       "      <th>number_diagnoses</th>\n",
       "      <td>7.427650e+00</td>\n",
       "      <td>1.934177e+00</td>\n",
       "      <td>1.0</td>\n",
       "      <td>6.0</td>\n",
       "      <td>8.0</td>\n",
       "      <td>9.0</td>\n",
       "      <td>16.0</td>\n",
       "    </tr>\n",
       "    <tr>\n",
       "      <th>Target_Label</th>\n",
       "      <td>1.134748e-01</td>\n",
       "      <td>3.171740e-01</td>\n",
       "      <td>0.0</td>\n",
       "      <td>0.0</td>\n",
       "      <td>0.0</td>\n",
       "      <td>0.0</td>\n",
       "      <td>1.0</td>\n",
       "    </tr>\n",
       "    <tr>\n",
       "      <th>age_group</th>\n",
       "      <td>6.074493e+01</td>\n",
       "      <td>1.601215e+01</td>\n",
       "      <td>0.0</td>\n",
       "      <td>50.0</td>\n",
       "      <td>60.0</td>\n",
       "      <td>70.0</td>\n",
       "      <td>90.0</td>\n",
       "    </tr>\n",
       "    <tr>\n",
       "      <th>has_weight</th>\n",
       "      <td>3.233326e-02</td>\n",
       "      <td>1.768846e-01</td>\n",
       "      <td>0.0</td>\n",
       "      <td>0.0</td>\n",
       "      <td>0.0</td>\n",
       "      <td>0.0</td>\n",
       "      <td>1.0</td>\n",
       "    </tr>\n",
       "    <tr>\n",
       "      <th>gender_vals</th>\n",
       "      <td>4.617499e-01</td>\n",
       "      <td>4.986003e-01</td>\n",
       "      <td>0.0</td>\n",
       "      <td>0.0</td>\n",
       "      <td>0.0</td>\n",
       "      <td>1.0</td>\n",
       "      <td>2.0</td>\n",
       "    </tr>\n",
       "    <tr>\n",
       "      <th>max_glu_serum_vals</th>\n",
       "      <td>9.352917e-02</td>\n",
       "      <td>4.347009e-01</td>\n",
       "      <td>0.0</td>\n",
       "      <td>0.0</td>\n",
       "      <td>0.0</td>\n",
       "      <td>0.0</td>\n",
       "      <td>3.0</td>\n",
       "    </tr>\n",
       "    <tr>\n",
       "      <th>A1Cresult_vals</th>\n",
       "      <td>3.696111e-01</td>\n",
       "      <td>8.927628e-01</td>\n",
       "      <td>0.0</td>\n",
       "      <td>0.0</td>\n",
       "      <td>0.0</td>\n",
       "      <td>0.0</td>\n",
       "      <td>3.0</td>\n",
       "    </tr>\n",
       "    <tr>\n",
       "      <th>metformin_vals</th>\n",
       "      <td>-3.979302e-01</td>\n",
       "      <td>1.214226e+00</td>\n",
       "      <td>-1.0</td>\n",
       "      <td>-1.0</td>\n",
       "      <td>-1.0</td>\n",
       "      <td>-1.0</td>\n",
       "      <td>3.0</td>\n",
       "    </tr>\n",
       "    <tr>\n",
       "      <th>repaglinide_vals</th>\n",
       "      <td>-9.524566e-01</td>\n",
       "      <td>3.794578e-01</td>\n",
       "      <td>-1.0</td>\n",
       "      <td>-1.0</td>\n",
       "      <td>-1.0</td>\n",
       "      <td>-1.0</td>\n",
       "      <td>3.0</td>\n",
       "    </tr>\n",
       "    <tr>\n",
       "      <th>nateglinide_vals</th>\n",
       "      <td>-9.783190e-01</td>\n",
       "      <td>2.556307e-01</td>\n",
       "      <td>-1.0</td>\n",
       "      <td>-1.0</td>\n",
       "      <td>-1.0</td>\n",
       "      <td>-1.0</td>\n",
       "      <td>3.0</td>\n",
       "    </tr>\n",
       "    <tr>\n",
       "      <th>chlorpropamide_vals</th>\n",
       "      <td>-9.980243e-01</td>\n",
       "      <td>7.790863e-02</td>\n",
       "      <td>-1.0</td>\n",
       "      <td>-1.0</td>\n",
       "      <td>-1.0</td>\n",
       "      <td>-1.0</td>\n",
       "      <td>3.0</td>\n",
       "    </tr>\n",
       "    <tr>\n",
       "      <th>glimepiride_vals</th>\n",
       "      <td>-8.407903e-01</td>\n",
       "      <td>6.788346e-01</td>\n",
       "      <td>-1.0</td>\n",
       "      <td>-1.0</td>\n",
       "      <td>-1.0</td>\n",
       "      <td>-1.0</td>\n",
       "      <td>3.0</td>\n",
       "    </tr>\n",
       "    <tr>\n",
       "      <th>acetohexamide_vals</th>\n",
       "      <td>-9.999686e-01</td>\n",
       "      <td>9.699650e-03</td>\n",
       "      <td>-1.0</td>\n",
       "      <td>-1.0</td>\n",
       "      <td>-1.0</td>\n",
       "      <td>-1.0</td>\n",
       "      <td>2.0</td>\n",
       "    </tr>\n",
       "    <tr>\n",
       "      <th>glipizide_vals</th>\n",
       "      <td>-6.141648e-01</td>\n",
       "      <td>1.014000e+00</td>\n",
       "      <td>-1.0</td>\n",
       "      <td>-1.0</td>\n",
       "      <td>-1.0</td>\n",
       "      <td>-1.0</td>\n",
       "      <td>3.0</td>\n",
       "    </tr>\n",
       "    <tr>\n",
       "      <th>glyburide_vals</th>\n",
       "      <td>-6.944491e-01</td>\n",
       "      <td>9.181703e-01</td>\n",
       "      <td>-1.0</td>\n",
       "      <td>-1.0</td>\n",
       "      <td>-1.0</td>\n",
       "      <td>-1.0</td>\n",
       "      <td>3.0</td>\n",
       "    </tr>\n",
       "    <tr>\n",
       "      <th>tolbutamide_vals</th>\n",
       "      <td>-9.993414e-01</td>\n",
       "      <td>4.444473e-02</td>\n",
       "      <td>-1.0</td>\n",
       "      <td>-1.0</td>\n",
       "      <td>-1.0</td>\n",
       "      <td>-1.0</td>\n",
       "      <td>2.0</td>\n",
       "    </tr>\n",
       "    <tr>\n",
       "      <th>pioglitazone_vals</th>\n",
       "      <td>-7.767510e-01</td>\n",
       "      <td>7.919000e-01</td>\n",
       "      <td>-1.0</td>\n",
       "      <td>-1.0</td>\n",
       "      <td>-1.0</td>\n",
       "      <td>-1.0</td>\n",
       "      <td>3.0</td>\n",
       "    </tr>\n",
       "    <tr>\n",
       "      <th>rosiglitazone_vals</th>\n",
       "      <td>-8.080807e-01</td>\n",
       "      <td>7.376703e-01</td>\n",
       "      <td>-1.0</td>\n",
       "      <td>-1.0</td>\n",
       "      <td>-1.0</td>\n",
       "      <td>-1.0</td>\n",
       "      <td>3.0</td>\n",
       "    </tr>\n",
       "    <tr>\n",
       "      <th>acarbose_vals</th>\n",
       "      <td>-9.909157e-01</td>\n",
       "      <td>1.656573e-01</td>\n",
       "      <td>-1.0</td>\n",
       "      <td>-1.0</td>\n",
       "      <td>-1.0</td>\n",
       "      <td>-1.0</td>\n",
       "      <td>3.0</td>\n",
       "    </tr>\n",
       "    <tr>\n",
       "      <th>troglitazone_vals</th>\n",
       "      <td>-9.999059e-01</td>\n",
       "      <td>1.680011e-02</td>\n",
       "      <td>-1.0</td>\n",
       "      <td>-1.0</td>\n",
       "      <td>-1.0</td>\n",
       "      <td>-1.0</td>\n",
       "      <td>2.0</td>\n",
       "    </tr>\n",
       "    <tr>\n",
       "      <th>tolazamide_vals</th>\n",
       "      <td>-9.990905e-01</td>\n",
       "      <td>5.222657e-02</td>\n",
       "      <td>-1.0</td>\n",
       "      <td>-1.0</td>\n",
       "      <td>-1.0</td>\n",
       "      <td>-1.0</td>\n",
       "      <td>2.0</td>\n",
       "    </tr>\n",
       "    <tr>\n",
       "      <th>insulin_vals</th>\n",
       "      <td>6.275455e-01</td>\n",
       "      <td>1.562341e+00</td>\n",
       "      <td>-1.0</td>\n",
       "      <td>-1.0</td>\n",
       "      <td>1.0</td>\n",
       "      <td>2.0</td>\n",
       "      <td>3.0</td>\n",
       "    </tr>\n",
       "    <tr>\n",
       "      <th>glyburide-metformin_vals</th>\n",
       "      <td>-9.780891e-01</td>\n",
       "      <td>2.558564e-01</td>\n",
       "      <td>-1.0</td>\n",
       "      <td>-1.0</td>\n",
       "      <td>-1.0</td>\n",
       "      <td>-1.0</td>\n",
       "      <td>3.0</td>\n",
       "    </tr>\n",
       "    <tr>\n",
       "      <th>glipizide-metformin_vals</th>\n",
       "      <td>-9.995923e-01</td>\n",
       "      <td>3.497039e-02</td>\n",
       "      <td>-1.0</td>\n",
       "      <td>-1.0</td>\n",
       "      <td>-1.0</td>\n",
       "      <td>-1.0</td>\n",
       "      <td>2.0</td>\n",
       "    </tr>\n",
       "    <tr>\n",
       "      <th>glimepiride-pioglitazone_vals</th>\n",
       "      <td>-9.999686e-01</td>\n",
       "      <td>9.699650e-03</td>\n",
       "      <td>-1.0</td>\n",
       "      <td>-1.0</td>\n",
       "      <td>-1.0</td>\n",
       "      <td>-1.0</td>\n",
       "      <td>2.0</td>\n",
       "    </tr>\n",
       "    <tr>\n",
       "      <th>metformin-rosiglitazone_vals</th>\n",
       "      <td>-9.999373e-01</td>\n",
       "      <td>1.371730e-02</td>\n",
       "      <td>-1.0</td>\n",
       "      <td>-1.0</td>\n",
       "      <td>-1.0</td>\n",
       "      <td>-1.0</td>\n",
       "      <td>2.0</td>\n",
       "    </tr>\n",
       "    <tr>\n",
       "      <th>metformin-pioglitazone_vals</th>\n",
       "      <td>-9.999686e-01</td>\n",
       "      <td>9.699650e-03</td>\n",
       "      <td>-1.0</td>\n",
       "      <td>-1.0</td>\n",
       "      <td>-1.0</td>\n",
       "      <td>-1.0</td>\n",
       "      <td>2.0</td>\n",
       "    </tr>\n",
       "    <tr>\n",
       "      <th>change_vals</th>\n",
       "      <td>4.705938e-01</td>\n",
       "      <td>4.991371e-01</td>\n",
       "      <td>0.0</td>\n",
       "      <td>0.0</td>\n",
       "      <td>0.0</td>\n",
       "      <td>1.0</td>\n",
       "      <td>1.0</td>\n",
       "    </tr>\n",
       "    <tr>\n",
       "      <th>diabetesMed_vals</th>\n",
       "      <td>7.781727e-01</td>\n",
       "      <td>4.154777e-01</td>\n",
       "      <td>0.0</td>\n",
       "      <td>1.0</td>\n",
       "      <td>1.0</td>\n",
       "      <td>1.0</td>\n",
       "      <td>1.0</td>\n",
       "    </tr>\n",
       "  </tbody>\n",
       "</table>\n",
       "</div>"
      ],
      "text/plain": [
       "                                       mean           std      min  \\\n",
       "encounter_id                   1.692252e+08  1.021830e+08  12522.0   \n",
       "patient_nbr                    5.599053e+07  3.839442e+07    135.0   \n",
       "admission_type_id              2.043205e+00  1.462060e+00      1.0   \n",
       "discharge_disposition_id       2.960391e+00  4.419180e+00      1.0   \n",
       "admission_source_id            5.765952e+00  4.106628e+00      1.0   \n",
       "time_in_hospital               4.345892e+00  2.949473e+00      1.0   \n",
       "num_lab_procedures             4.290168e+01  1.975141e+01      1.0   \n",
       "num_procedures                 1.324713e+00  1.696323e+00      0.0   \n",
       "num_medications                1.597005e+01  8.040273e+00      1.0   \n",
       "number_outpatient              3.817897e-01  1.286097e+00      0.0   \n",
       "number_emergency               2.057182e-01  9.545909e-01      0.0   \n",
       "number_inpatient               6.307652e-01  1.263194e+00      0.0   \n",
       "number_diagnoses               7.427650e+00  1.934177e+00      1.0   \n",
       "Target_Label                   1.134748e-01  3.171740e-01      0.0   \n",
       "age_group                      6.074493e+01  1.601215e+01      0.0   \n",
       "has_weight                     3.233326e-02  1.768846e-01      0.0   \n",
       "gender_vals                    4.617499e-01  4.986003e-01      0.0   \n",
       "max_glu_serum_vals             9.352917e-02  4.347009e-01      0.0   \n",
       "A1Cresult_vals                 3.696111e-01  8.927628e-01      0.0   \n",
       "metformin_vals                -3.979302e-01  1.214226e+00     -1.0   \n",
       "repaglinide_vals              -9.524566e-01  3.794578e-01     -1.0   \n",
       "nateglinide_vals              -9.783190e-01  2.556307e-01     -1.0   \n",
       "chlorpropamide_vals           -9.980243e-01  7.790863e-02     -1.0   \n",
       "glimepiride_vals              -8.407903e-01  6.788346e-01     -1.0   \n",
       "acetohexamide_vals            -9.999686e-01  9.699650e-03     -1.0   \n",
       "glipizide_vals                -6.141648e-01  1.014000e+00     -1.0   \n",
       "glyburide_vals                -6.944491e-01  9.181703e-01     -1.0   \n",
       "tolbutamide_vals              -9.993414e-01  4.444473e-02     -1.0   \n",
       "pioglitazone_vals             -7.767510e-01  7.919000e-01     -1.0   \n",
       "rosiglitazone_vals            -8.080807e-01  7.376703e-01     -1.0   \n",
       "acarbose_vals                 -9.909157e-01  1.656573e-01     -1.0   \n",
       "troglitazone_vals             -9.999059e-01  1.680011e-02     -1.0   \n",
       "tolazamide_vals               -9.990905e-01  5.222657e-02     -1.0   \n",
       "insulin_vals                   6.275455e-01  1.562341e+00     -1.0   \n",
       "glyburide-metformin_vals      -9.780891e-01  2.558564e-01     -1.0   \n",
       "glipizide-metformin_vals      -9.995923e-01  3.497039e-02     -1.0   \n",
       "glimepiride-pioglitazone_vals -9.999686e-01  9.699650e-03     -1.0   \n",
       "metformin-rosiglitazone_vals  -9.999373e-01  1.371730e-02     -1.0   \n",
       "metformin-pioglitazone_vals   -9.999686e-01  9.699650e-03     -1.0   \n",
       "change_vals                    4.705938e-01  4.991371e-01      0.0   \n",
       "diabetesMed_vals               7.781727e-01  4.154777e-01      0.0   \n",
       "\n",
       "                                      25%          50%          75%  \\\n",
       "encounter_id                   91983594.0  155503059.0  234109099.5   \n",
       "patient_nbr                    23858037.0   50234418.0   88542333.0   \n",
       "admission_type_id                     1.0          1.0          3.0   \n",
       "discharge_disposition_id              1.0          1.0          3.0   \n",
       "admission_source_id                   1.0          7.0          7.0   \n",
       "time_in_hospital                      2.0          4.0          6.0   \n",
       "num_lab_procedures                   31.0         44.0         57.0   \n",
       "num_procedures                        0.0          1.0          2.0   \n",
       "num_medications                      10.0         15.0         20.0   \n",
       "number_outpatient                     0.0          0.0          0.0   \n",
       "number_emergency                      0.0          0.0          0.0   \n",
       "number_inpatient                      0.0          0.0          1.0   \n",
       "number_diagnoses                      6.0          8.0          9.0   \n",
       "Target_Label                          0.0          0.0          0.0   \n",
       "age_group                            50.0         60.0         70.0   \n",
       "has_weight                            0.0          0.0          0.0   \n",
       "gender_vals                           0.0          0.0          1.0   \n",
       "max_glu_serum_vals                    0.0          0.0          0.0   \n",
       "A1Cresult_vals                        0.0          0.0          0.0   \n",
       "metformin_vals                       -1.0         -1.0         -1.0   \n",
       "repaglinide_vals                     -1.0         -1.0         -1.0   \n",
       "nateglinide_vals                     -1.0         -1.0         -1.0   \n",
       "chlorpropamide_vals                  -1.0         -1.0         -1.0   \n",
       "glimepiride_vals                     -1.0         -1.0         -1.0   \n",
       "acetohexamide_vals                   -1.0         -1.0         -1.0   \n",
       "glipizide_vals                       -1.0         -1.0         -1.0   \n",
       "glyburide_vals                       -1.0         -1.0         -1.0   \n",
       "tolbutamide_vals                     -1.0         -1.0         -1.0   \n",
       "pioglitazone_vals                    -1.0         -1.0         -1.0   \n",
       "rosiglitazone_vals                   -1.0         -1.0         -1.0   \n",
       "acarbose_vals                        -1.0         -1.0         -1.0   \n",
       "troglitazone_vals                    -1.0         -1.0         -1.0   \n",
       "tolazamide_vals                      -1.0         -1.0         -1.0   \n",
       "insulin_vals                         -1.0          1.0          2.0   \n",
       "glyburide-metformin_vals             -1.0         -1.0         -1.0   \n",
       "glipizide-metformin_vals             -1.0         -1.0         -1.0   \n",
       "glimepiride-pioglitazone_vals        -1.0         -1.0         -1.0   \n",
       "metformin-rosiglitazone_vals         -1.0         -1.0         -1.0   \n",
       "metformin-pioglitazone_vals          -1.0         -1.0         -1.0   \n",
       "change_vals                           0.0          0.0          1.0   \n",
       "diabetesMed_vals                      1.0          1.0          1.0   \n",
       "\n",
       "                                       max  \n",
       "encounter_id                   443867222.0  \n",
       "patient_nbr                    189502619.0  \n",
       "admission_type_id                      8.0  \n",
       "discharge_disposition_id              28.0  \n",
       "admission_source_id                   25.0  \n",
       "time_in_hospital                      14.0  \n",
       "num_lab_procedures                   132.0  \n",
       "num_procedures                         6.0  \n",
       "num_medications                       81.0  \n",
       "number_outpatient                     42.0  \n",
       "number_emergency                      76.0  \n",
       "number_inpatient                      21.0  \n",
       "number_diagnoses                      16.0  \n",
       "Target_Label                           1.0  \n",
       "age_group                             90.0  \n",
       "has_weight                             1.0  \n",
       "gender_vals                            2.0  \n",
       "max_glu_serum_vals                     3.0  \n",
       "A1Cresult_vals                         3.0  \n",
       "metformin_vals                         3.0  \n",
       "repaglinide_vals                       3.0  \n",
       "nateglinide_vals                       3.0  \n",
       "chlorpropamide_vals                    3.0  \n",
       "glimepiride_vals                       3.0  \n",
       "acetohexamide_vals                     2.0  \n",
       "glipizide_vals                         3.0  \n",
       "glyburide_vals                         3.0  \n",
       "tolbutamide_vals                       2.0  \n",
       "pioglitazone_vals                      3.0  \n",
       "rosiglitazone_vals                     3.0  \n",
       "acarbose_vals                          3.0  \n",
       "troglitazone_vals                      2.0  \n",
       "tolazamide_vals                        2.0  \n",
       "insulin_vals                           3.0  \n",
       "glyburide-metformin_vals               3.0  \n",
       "glipizide-metformin_vals               2.0  \n",
       "glimepiride-pioglitazone_vals          2.0  \n",
       "metformin-rosiglitazone_vals           2.0  \n",
       "metformin-pioglitazone_vals            2.0  \n",
       "change_vals                            1.0  \n",
       "diabetesMed_vals                       1.0  "
      ]
     },
     "execution_count": 18,
     "metadata": {},
     "output_type": "execute_result"
    }
   ],
   "source": [
    "data.describe().T.drop('count', axis=1)\n",
    "# We have converted to 41 numerical columns from 13 earlier(We will remove some not required columns)\n",
    "# These are all values we will feed to model"
   ]
  },
  {
   "cell_type": "code",
   "execution_count": 19,
   "metadata": {},
   "outputs": [],
   "source": [
    "import warnings\n",
    "warnings.filterwarnings(\"ignore\")"
   ]
  },
  {
   "cell_type": "code",
   "execution_count": 20,
   "metadata": {},
   "outputs": [
    {
     "data": {
      "image/png": "[encoded data removed]",
      "text/plain": [
       "<Figure size 1152x288 with 3 Axes>"
      ]
     },
     "metadata": {
      "needs_background": "light"
     },
     "output_type": "display_data"
    }
   ],
   "source": [
    "#Age and Readmission Count Frequency Distributions\n",
    "f, ax = plt.subplots(1, 3, figsize=(16, 4), sharey=False)\n",
    "sns.distplot(data.age_group, ax=ax[0])\n",
    "ax[0].set_title('Age Distribution')\n",
    "ax[0].set_ylabel('Density')\n",
    "sns.distplot(data['Target_Label'], ax=ax[1])\n",
    "ax[1].set_title('Readmission Count Distribution')\n",
    "sns.distplot(np.log10((data['Target_Label'][data['Target_Label'].notnull()] + 1)), ax=ax[2])\n",
    "ax[2].set_title('Readmission Count Distribution\\n[Log 10]')\n",
    "ax[2].set_xlabel('Log Readmission Count')\n",
    "plt.rcParams.update({'font.size': 12})\n",
    "plt.tight_layout()\n",
    "plt.savefig('output/age-and-Readmission-freqdist.png', format='png', dpi=600)\n",
    "plt.show()\n"
   ]
  },
  {
   "cell_type": "code",
   "execution_count": 21,
   "metadata": {},
   "outputs": [
    {
     "data": {
      "image/png": "[encoded data removed]",
      "text/plain": [
       "<Figure size 1152x288 with 1 Axes>"
      ]
     },
     "metadata": {
      "needs_background": "light"
     },
     "output_type": "display_data"
    }
   ],
   "source": [
    "#Number of Lab Procedure and Readmission Count Frequency Distributions\n",
    "f, ax = plt.subplots(1, 1, figsize=(16, 4), sharey=False)\n",
    "sns.distplot(data.num_lab_procedures)\n",
    "ax.set_title('Number of Lab Procedures')\n",
    "ax.set_ylabel('Density')\n",
    "plt.rcParams.update({'font.size': 12})\n",
    "plt.tight_layout()\n",
    "plt.savefig('output/num_lab_procedures-and-Readmission-freqdist.png', format='png', dpi=600)\n",
    "plt.show()\n"
   ]
  },
  {
   "cell_type": "code",
   "execution_count": 22,
   "metadata": {},
   "outputs": [
    {
     "name": "stdout",
     "output_type": "stream",
     "text": [
      "READMITTED: 10855\n",
      "NOT READMITTED: 84805\n",
      "TOTAL: 95660\n",
      "%AGE READMITTED: 11.35\n"
     ]
    }
   ],
   "source": [
    "# creating separate df from readmitted and not_readmitted\n",
    "readmitted = data[data.Target_Label == 1]\n",
    "not_readmitted = data[data.Target_Label == 0]\n",
    "print(\"READMITTED:\",len(readmitted))\n",
    "print(\"NOT READMITTED:\",len(not_readmitted))\n",
    "print(\"TOTAL:\",len(data))\n",
    "print(\"%AGE READMITTED:\",round(len(readmitted)*100/len(data),2))"
   ]
  },
  {
   "cell_type": "code",
   "execution_count": 23,
   "metadata": {},
   "outputs": [
    {
     "data": {
      "image/png": "[encoded data removed]",
      "text/plain": [
       "<Figure size 648x432 with 1 Axes>"
      ]
     },
     "metadata": {
      "needs_background": "light"
     },
     "output_type": "display_data"
    }
   ],
   "source": [
    "# Histogram plots for Age of Patient\n",
    "plt.figure(figsize=(9,6))\n",
    "binBoundaries = np.linspace(0,100,30)\n",
    "plt.hist(x=readmitted.age_group, bins=binBoundaries, color='red', alpha=1.0, rwidth=0.9, label = \"Readmitted\")\n",
    "plt.hist(x=not_readmitted.age_group, bins=binBoundaries, color='green', alpha=0.3, rwidth=0.9, label = \"Not Readmitted\")\n",
    "plt.legend(loc='upper right')\n",
    "plt.grid(axis='y', alpha=0.5)\n",
    "plt.xlabel('Age Groups in Years')\n",
    "plt.ylabel('Count of Patients')\n",
    "plt.show()\n",
    "# These dont seem to show any pattern"
   ]
  },
  {
   "cell_type": "code",
   "execution_count": 24,
   "metadata": {},
   "outputs": [
    {
     "data": {
      "image/png": "[encoded data removed]",
      "text/plain": [
       "<Figure size 432x288 with 1 Axes>"
      ]
     },
     "metadata": {
      "needs_background": "light"
     },
     "output_type": "display_data"
    }
   ],
   "source": [
    "# Histogram plots for Number of Medications being taken\n",
    "binBoundaries = np.linspace(0,100,24)\n",
    "plt.hist(x=readmitted.num_medications, bins=binBoundaries, color='red', alpha=1.0, rwidth=0.9, label = \"Readmitted\")\n",
    "plt.hist(x=not_readmitted.num_medications, bins=binBoundaries, color='green', alpha=0.3, rwidth=0.9, label = \"Not Readmitted\")\n",
    "plt.legend(loc='upper right')\n",
    "plt.grid(axis='y', alpha=0.5)\n",
    "plt.xlabel('Number of Medications Taken')\n",
    "plt.ylabel('Count of Patients')\n",
    "plt.show()"
   ]
  },
  {
   "cell_type": "code",
   "execution_count": 25,
   "metadata": {},
   "outputs": [
    {
     "data": {
      "image/png": "[encoded data removed]",
      "text/plain": [
       "<Figure size 432x288 with 1 Axes>"
      ]
     },
     "metadata": {
      "needs_background": "light"
     },
     "output_type": "display_data"
    }
   ],
   "source": [
    "# Histogram plots for Number of Lab Procedures being taken\n",
    "binBoundaries = np.linspace(0,100,24)\n",
    "plt.hist(x=readmitted.num_lab_procedures, bins=binBoundaries, color='red', alpha=1.0, rwidth=0.9, label = \"Readmitted\")\n",
    "plt.hist(x=not_readmitted.num_lab_procedures, bins=binBoundaries, color='green', alpha=0.3, rwidth=0.9, label = \"Not Readmitted\")\n",
    "plt.legend(loc='upper right')\n",
    "plt.grid(axis='y', alpha=0.5)\n",
    "plt.xlabel('Number of Lab Procedures')\n",
    "plt.ylabel('Count of Patients')\n",
    "plt.show()"
   ]
  },
  {
   "cell_type": "markdown",
   "metadata": {},
   "source": [
    "### Summary of Variables for Modeling\n",
    "Below is the list of variables we are starting with. We will drop as needed based on analysis"
   ]
  },
  {
   "cell_type": "code",
   "execution_count": 26,
   "metadata": {},
   "outputs": [
    {
     "name": "stdout",
     "output_type": "stream",
     "text": [
      "Total number of predictors: 35\n",
      "Numerical predictors: 8\n",
      "Categorical converted to Numerical predictors: 27\n"
     ]
    }
   ],
   "source": [
    "print('Total number of predictors:', len(num_col_names + features))\n",
    "print('Numerical predictors:',len(num_col_names))\n",
    "print('Categorical converted to Numerical predictors:',len(features))\n",
    "#print('Other Features:',len(features))"
   ]
  },
  {
   "cell_type": "code",
   "execution_count": 27,
   "metadata": {},
   "outputs": [
    {
     "data": {
      "text/plain": [
       "diabetesMed_vals                 0\n",
       "age_group                        0\n",
       "repaglinide_vals                 0\n",
       "metformin_vals                   0\n",
       "A1Cresult_vals                   0\n",
       "max_glu_serum_vals               0\n",
       "gender_vals                      0\n",
       "has_weight                       0\n",
       "number_diagnoses                 0\n",
       "chlorpropamide_vals              0\n",
       "number_inpatient                 0\n",
       "number_emergency                 0\n",
       "number_outpatient                0\n",
       "num_medications                  0\n",
       "num_procedures                   0\n",
       "num_lab_procedures               0\n",
       "nateglinide_vals                 0\n",
       "glimepiride_vals                 0\n",
       "change_vals                      0\n",
       "tolazamide_vals                  0\n",
       "metformin-pioglitazone_vals      0\n",
       "metformin-rosiglitazone_vals     0\n",
       "glimepiride-pioglitazone_vals    0\n",
       "glipizide-metformin_vals         0\n",
       "glyburide-metformin_vals         0\n",
       "insulin_vals                     0\n",
       "troglitazone_vals                0\n",
       "acetohexamide_vals               0\n",
       "acarbose_vals                    0\n",
       "rosiglitazone_vals               0\n",
       "pioglitazone_vals                0\n",
       "tolbutamide_vals                 0\n",
       "glyburide_vals                   0\n",
       "glipizide_vals                   0\n",
       "time_in_hospital                 0\n",
       "dtype: int64"
      ]
     },
     "execution_count": 27,
     "metadata": {},
     "output_type": "execute_result"
    }
   ],
   "source": [
    "# Check Missing Data\n",
    "data[num_col_names + features].isnull().sum().sort_values(ascending=False)"
   ]
  },
  {
   "cell_type": "code",
   "execution_count": 28,
   "metadata": {},
   "outputs": [],
   "source": [
    "# Dataframe for modeling\n",
    "model_data = data[num_col_names + features + ['Target_Label']]"
   ]
  },
  {
   "cell_type": "code",
   "execution_count": 29,
   "metadata": {},
   "outputs": [
    {
     "data": {
      "text/html": [
       "<div>\n",
       "<style scoped>\n",
       "    .dataframe tbody tr th:only-of-type {\n",
       "        vertical-align: middle;\n",
       "    }\n",
       "\n",
       "    .dataframe tbody tr th {\n",
       "        vertical-align: top;\n",
       "    }\n",
       "\n",
       "    .dataframe thead th {\n",
       "        text-align: right;\n",
       "    }\n",
       "</style>\n",
       "<table border=\"1\" class=\"dataframe\">\n",
       "  <thead>\n",
       "    <tr style=\"text-align: right;\">\n",
       "      <th></th>\n",
       "      <th>time_in_hospital</th>\n",
       "      <th>num_lab_procedures</th>\n",
       "      <th>num_procedures</th>\n",
       "      <th>num_medications</th>\n",
       "      <th>number_outpatient</th>\n",
       "      <th>number_emergency</th>\n",
       "      <th>number_inpatient</th>\n",
       "      <th>number_diagnoses</th>\n",
       "      <th>age_group</th>\n",
       "      <th>has_weight</th>\n",
       "      <th>...</th>\n",
       "      <th>tolazamide_vals</th>\n",
       "      <th>insulin_vals</th>\n",
       "      <th>glyburide-metformin_vals</th>\n",
       "      <th>glipizide-metformin_vals</th>\n",
       "      <th>glimepiride-pioglitazone_vals</th>\n",
       "      <th>metformin-rosiglitazone_vals</th>\n",
       "      <th>metformin-pioglitazone_vals</th>\n",
       "      <th>change_vals</th>\n",
       "      <th>diabetesMed_vals</th>\n",
       "      <th>Target_Label</th>\n",
       "    </tr>\n",
       "  </thead>\n",
       "  <tbody>\n",
       "    <tr>\n",
       "      <th>0</th>\n",
       "      <td>1</td>\n",
       "      <td>41</td>\n",
       "      <td>0</td>\n",
       "      <td>1</td>\n",
       "      <td>0</td>\n",
       "      <td>0</td>\n",
       "      <td>0</td>\n",
       "      <td>1</td>\n",
       "      <td>0</td>\n",
       "      <td>0</td>\n",
       "      <td>...</td>\n",
       "      <td>-1</td>\n",
       "      <td>-1</td>\n",
       "      <td>-1</td>\n",
       "      <td>-1</td>\n",
       "      <td>-1</td>\n",
       "      <td>-1</td>\n",
       "      <td>-1</td>\n",
       "      <td>0</td>\n",
       "      <td>0</td>\n",
       "      <td>0</td>\n",
       "    </tr>\n",
       "    <tr>\n",
       "      <th>1</th>\n",
       "      <td>3</td>\n",
       "      <td>59</td>\n",
       "      <td>0</td>\n",
       "      <td>18</td>\n",
       "      <td>0</td>\n",
       "      <td>0</td>\n",
       "      <td>0</td>\n",
       "      <td>9</td>\n",
       "      <td>10</td>\n",
       "      <td>0</td>\n",
       "      <td>...</td>\n",
       "      <td>-1</td>\n",
       "      <td>3</td>\n",
       "      <td>-1</td>\n",
       "      <td>-1</td>\n",
       "      <td>-1</td>\n",
       "      <td>-1</td>\n",
       "      <td>-1</td>\n",
       "      <td>1</td>\n",
       "      <td>1</td>\n",
       "      <td>0</td>\n",
       "    </tr>\n",
       "    <tr>\n",
       "      <th>2</th>\n",
       "      <td>2</td>\n",
       "      <td>11</td>\n",
       "      <td>5</td>\n",
       "      <td>13</td>\n",
       "      <td>2</td>\n",
       "      <td>0</td>\n",
       "      <td>1</td>\n",
       "      <td>6</td>\n",
       "      <td>20</td>\n",
       "      <td>0</td>\n",
       "      <td>...</td>\n",
       "      <td>-1</td>\n",
       "      <td>-1</td>\n",
       "      <td>-1</td>\n",
       "      <td>-1</td>\n",
       "      <td>-1</td>\n",
       "      <td>-1</td>\n",
       "      <td>-1</td>\n",
       "      <td>0</td>\n",
       "      <td>1</td>\n",
       "      <td>0</td>\n",
       "    </tr>\n",
       "    <tr>\n",
       "      <th>3</th>\n",
       "      <td>2</td>\n",
       "      <td>44</td>\n",
       "      <td>1</td>\n",
       "      <td>16</td>\n",
       "      <td>0</td>\n",
       "      <td>0</td>\n",
       "      <td>0</td>\n",
       "      <td>7</td>\n",
       "      <td>30</td>\n",
       "      <td>0</td>\n",
       "      <td>...</td>\n",
       "      <td>-1</td>\n",
       "      <td>3</td>\n",
       "      <td>-1</td>\n",
       "      <td>-1</td>\n",
       "      <td>-1</td>\n",
       "      <td>-1</td>\n",
       "      <td>-1</td>\n",
       "      <td>1</td>\n",
       "      <td>1</td>\n",
       "      <td>0</td>\n",
       "    </tr>\n",
       "    <tr>\n",
       "      <th>4</th>\n",
       "      <td>1</td>\n",
       "      <td>51</td>\n",
       "      <td>0</td>\n",
       "      <td>8</td>\n",
       "      <td>0</td>\n",
       "      <td>0</td>\n",
       "      <td>0</td>\n",
       "      <td>5</td>\n",
       "      <td>40</td>\n",
       "      <td>0</td>\n",
       "      <td>...</td>\n",
       "      <td>-1</td>\n",
       "      <td>2</td>\n",
       "      <td>-1</td>\n",
       "      <td>-1</td>\n",
       "      <td>-1</td>\n",
       "      <td>-1</td>\n",
       "      <td>-1</td>\n",
       "      <td>1</td>\n",
       "      <td>1</td>\n",
       "      <td>0</td>\n",
       "    </tr>\n",
       "  </tbody>\n",
       "</table>\n",
       "<p>5 rows × 36 columns</p>\n",
       "</div>"
      ],
      "text/plain": [
       "   time_in_hospital  num_lab_procedures  num_procedures  num_medications  \\\n",
       "0                 1                  41               0                1   \n",
       "1                 3                  59               0               18   \n",
       "2                 2                  11               5               13   \n",
       "3                 2                  44               1               16   \n",
       "4                 1                  51               0                8   \n",
       "\n",
       "   number_outpatient  number_emergency  number_inpatient  number_diagnoses  \\\n",
       "0                  0                 0                 0                 1   \n",
       "1                  0                 0                 0                 9   \n",
       "2                  2                 0                 1                 6   \n",
       "3                  0                 0                 0                 7   \n",
       "4                  0                 0                 0                 5   \n",
       "\n",
       "   age_group  has_weight  ...  tolazamide_vals  insulin_vals  \\\n",
       "0          0           0  ...               -1            -1   \n",
       "1         10           0  ...               -1             3   \n",
       "2         20           0  ...               -1            -1   \n",
       "3         30           0  ...               -1             3   \n",
       "4         40           0  ...               -1             2   \n",
       "\n",
       "   glyburide-metformin_vals  glipizide-metformin_vals  \\\n",
       "0                        -1                        -1   \n",
       "1                        -1                        -1   \n",
       "2                        -1                        -1   \n",
       "3                        -1                        -1   \n",
       "4                        -1                        -1   \n",
       "\n",
       "   glimepiride-pioglitazone_vals  metformin-rosiglitazone_vals  \\\n",
       "0                             -1                            -1   \n",
       "1                             -1                            -1   \n",
       "2                             -1                            -1   \n",
       "3                             -1                            -1   \n",
       "4                             -1                            -1   \n",
       "\n",
       "   metformin-pioglitazone_vals  change_vals  diabetesMed_vals  Target_Label  \n",
       "0                           -1            0                 0             0  \n",
       "1                           -1            1                 1             0  \n",
       "2                           -1            0                 1             0  \n",
       "3                           -1            1                 1             0  \n",
       "4                           -1            1                 1             0  \n",
       "\n",
       "[5 rows x 36 columns]"
      ]
     },
     "execution_count": 29,
     "metadata": {},
     "output_type": "execute_result"
    }
   ],
   "source": [
    "model_data.head()"
   ]
  },
  {
   "cell_type": "code",
   "execution_count": 31,
   "metadata": {},
   "outputs": [],
   "source": [
    "import yellowbrick"
   ]
  },
  {
   "cell_type": "markdown",
   "metadata": {},
   "source": [
    "Before Exploring the attributes, will like to also check the correlation coefficients"
   ]
  },
  {
   "cell_type": "code",
   "execution_count": 32,
   "metadata": {},
   "outputs": [
    {
     "data": {
      "text/plain": [
       "<matplotlib.axes._subplots.AxesSubplot at 0x7fcf3f621fd0>"
      ]
     },
     "execution_count": 32,
     "metadata": {},
     "output_type": "execute_result"
    },
    {
     "data": {
      "image/png": "[encoded data removed]",
      "text/plain": [
       "<Figure size 1440x1440 with 2 Axes>"
      ]
     },
     "metadata": {
      "needs_background": "light"
     },
     "output_type": "display_data"
    }
   ],
   "source": [
    "# To see if the data is correlated, make some Pearson Ranking charts\n",
    "# The correlation between the variables is low (1 or -1 is high positive or high negative, 0 is low or no correlation)\n",
    "# These results show there is correlation different different attributes\n",
    "#set up the figure size\n",
    "%matplotlib inline\n",
    "plt.rcParams['figure.figsize'] = (20, 20)\n",
    "\n",
    "# import the package for visulization of the correlation\n",
    "from yellowbrick.features import Rank2D\n",
    "\n",
    "# 'Target_Label' is the outcome we are looking for\n",
    "# Specify the features of interest + Cannot use all attributes\n",
    "\n",
    "num_features = num_col_names + features + ['Target_Label']\n",
    "\n",
    "#num_features = ['time_in_hospital', 'num_lab_procedures', 'num_procedures', \n",
    "#                'num_medications', 'number_outpatient', 'number_emergency', 'number_inpatient', \n",
    "#                'number_diagnoses', 'age_group', 'has_weight', 'Target_Label']\n",
    " # data_cat_cols \n",
    "# extract the numpy arrays from the data frame\n",
    "X = model_data[num_features].values#.as_matrix()\n",
    "\n",
    "# instantiate the visualizer with the Covariance ranking algorithm\n",
    "visualizer = Rank2D(features=num_features, algorithm='pearson')\n",
    "visualizer.fit(X)                # Fit the data to the visualizer\n",
    "visualizer.transform(X)             # Transform the data\n",
    "visualizer.poof(outpath=\"output/pcoords1.png\") # Draw/show/poof the data\n",
    "#plt.show()"
   ]
  },
  {
   "cell_type": "markdown",
   "metadata": {},
   "source": [
    "Cant say much about these varriables being highly correlated. So will feed all initially and reduce later if possible."
   ]
  },
  {
   "cell_type": "markdown",
   "metadata": {},
   "source": [
    "# Modeling Prep"
   ]
  },
  {
   "cell_type": "markdown",
   "metadata": {},
   "source": [
    "### Split Data"
   ]
  },
  {
   "cell_type": "code",
   "execution_count": 33,
   "metadata": {},
   "outputs": [],
   "source": [
    "import random\n",
    "random.seed(10)"
   ]
  },
  {
   "cell_type": "code",
   "execution_count": 34,
   "metadata": {},
   "outputs": [],
   "source": [
    "# Shuffle Data\n",
    "model_data = model_data.sample(n=len(model_data),random_state=10)\n",
    "model_data = model_data.reset_index(drop=True)\n",
    "\n",
    "# 15% Validation / 15% Test split / 70% Train\n",
    "vd_test = model_data.sample(frac=0.3, random_state=10)\n",
    "test_data = vd_test.sample(frac=0.5, random_state=10)\n",
    "vd_data = vd_test.drop(test_data.index)\n",
    "train_data = model_data.drop(vd_test.index)"
   ]
  },
  {
   "cell_type": "code",
   "execution_count": 35,
   "metadata": {},
   "outputs": [
    {
     "name": "stdout",
     "output_type": "stream",
     "text": [
      "Readmission Rates by Set\n",
      "Test:  0.1140149139312844\n",
      "Validation:  0.11749947731549237\n",
      "Train:  0.11249663988530809\n"
     ]
    }
   ],
   "source": [
    "print('Readmission Rates by Set')\n",
    "print('Test: ', test_data[test_data['Target_Label']==1].shape[0]/test_data.shape[0])\n",
    "print('Validation: ', vd_data[vd_data['Target_Label']==1].shape[0]/vd_data.shape[0])\n",
    "print('Train: ', train_data[train_data['Target_Label']==1].shape[0]/train_data.shape[0])"
   ]
  },
  {
   "cell_type": "markdown",
   "metadata": {},
   "source": [
    "### Balance Training Data"
   ]
  },
  {
   "cell_type": "code",
   "execution_count": 36,
   "metadata": {},
   "outputs": [
    {
     "name": "stdout",
     "output_type": "stream",
     "text": [
      "Readmission Rates by Set\n",
      "Test:  0.1140149139312844\n",
      "Validation:  0.11749947731549237\n",
      "Train:  0.11249663988530809\n",
      "Train Balanced:  0.5\n"
     ]
    }
   ],
   "source": [
    "# Split training data into positive and negative\n",
    "positive = train_data.Target_Label == 1\n",
    "train_data_pos = train_data.loc[positive]\n",
    "train_data_neg = train_data.loc[~positive]\n",
    "\n",
    "# Merge and Balance\n",
    "train_data_balanced = pd.concat([train_data_pos, train_data_neg.sample(n = len(train_data_pos), random_state=10)], axis = 0)\n",
    "\n",
    "# Shuffle\n",
    "train_data_balanced = train_data_balanced.sample(n = len(train_data_balanced), random_state = 10).reset_index(drop=True)\n",
    "\n",
    "print('Readmission Rates by Set')\n",
    "print('Test: ', test_data[test_data['Target_Label']==1].shape[0]/test_data.shape[0])\n",
    "print('Validation: ', vd_data[vd_data['Target_Label']==1].shape[0]/vd_data.shape[0])\n",
    "print('Train: ', train_data[train_data['Target_Label']==1].shape[0]/train_data.shape[0])\n",
    "print('Train Balanced: ', train_data_balanced[train_data_balanced['Target_Label']==1].shape[0]/train_data_balanced.shape[0])"
   ]
  },
  {
   "cell_type": "markdown",
   "metadata": {},
   "source": [
    "### Create Input Matrices and Output Vectors"
   ]
  },
  {
   "cell_type": "code",
   "execution_count": 37,
   "metadata": {},
   "outputs": [
    {
     "name": "stdout",
     "output_type": "stream",
     "text": [
      "Training Matrix: (66962, 35)\n",
      "Balanced Training Matrix, Label: (15066, 35) 15066\n",
      "Validation Matrix, Label: (14349, 35) 14349\n"
     ]
    }
   ],
   "source": [
    "train_matrix = train_data[num_col_names + features].values\n",
    "train_balanced_matrix = train_data_balanced[num_col_names +  features].values\n",
    "vd_matrix = vd_data[num_col_names +  features].values\n",
    "\n",
    "train_labels = train_data_balanced['Target_Label'].values\n",
    "vd_labels = vd_data['Target_Label'].values\n",
    "\n",
    "print('Training Matrix:',train_matrix.shape)\n",
    "print('Balanced Training Matrix, Label:',train_balanced_matrix.shape, train_labels.shape[0])\n",
    "print('Validation Matrix, Label:',vd_matrix.shape, vd_labels.shape[0])"
   ]
  },
  {
   "cell_type": "markdown",
   "metadata": {},
   "source": [
    "### Scaling"
   ]
  },
  {
   "cell_type": "code",
   "execution_count": 38,
   "metadata": {},
   "outputs": [],
   "source": [
    "scaler = StandardScaler()\n",
    "scaler.fit(train_matrix)\n",
    "\n",
    "scaled_train = scaler.transform(train_balanced_matrix)\n",
    "scaled_vd = scaler.transform(vd_matrix)"
   ]
  },
  {
   "cell_type": "markdown",
   "metadata": {},
   "source": [
    "# Modeling"
   ]
  },
  {
   "cell_type": "code",
   "execution_count": 39,
   "metadata": {},
   "outputs": [],
   "source": [
    "def report(actual, predicted):\n",
    "    plt.rcParams['figure.figsize'] = (8, 5)\n",
    "    AUC = roc_auc_score(actual, predicted)\n",
    "    accuracy = accuracy_score(actual, predicted)\n",
    "    precision = precision_score(actual, predicted)\n",
    "    recall = recall_score(actual, predicted)\n",
    "    print('AUC: ', AUC)\n",
    "    print('Accuracy: ', accuracy)\n",
    "    print('Precision: ', precision)\n",
    "    print('Recall: ', recall)\n",
    "    print('Confusion Matrix:')\n",
    "    conf_matrix = confusion_matrix(actual, predicted)\n",
    "    group_names = ['True Neg','False Pos','False Neg','True Pos']\n",
    "    group_counts = ['{0:0.0f}'.format(value) for value in conf_matrix.flatten()]\n",
    "    group_percentages = ['{0:.2%}'.format(value) for value in conf_matrix.flatten()/np.sum(conf_matrix)]\n",
    "    labels = [f'{v1}\\n{v2}\\n{v3}' for v1, v2, v3 in zip(group_names,group_counts,group_percentages)]\n",
    "    labels = np.asarray(labels).reshape(2,2)\n",
    "    sns.heatmap(conf_matrix, annot=labels, fmt='', cmap='Blues')\n",
    "    return AUC, accuracy, precision, recall"
   ]
  },
  {
   "cell_type": "markdown",
   "metadata": {},
   "source": [
    "### K Nearest Neighbors"
   ]
  },
  {
   "cell_type": "code",
   "execution_count": 40,
   "metadata": {},
   "outputs": [
    {
     "data": {
      "text/plain": [
       "KNeighborsClassifier(n_neighbors=100)"
      ]
     },
     "execution_count": 40,
     "metadata": {},
     "output_type": "execute_result"
    }
   ],
   "source": [
    "from sklearn.neighbors import KNeighborsClassifier\n",
    "knn = KNeighborsClassifier(n_neighbors = 100)\n",
    "knn.fit(scaled_train, train_labels)"
   ]
  },
  {
   "cell_type": "code",
   "execution_count": 41,
   "metadata": {},
   "outputs": [
    {
     "name": "stdout",
     "output_type": "stream",
     "text": [
      "Train:\n",
      "AUC:  0.557414044869242\n",
      "Accuracy:  0.557414044869242\n",
      "Precision:  0.5340042456167938\n",
      "Recall:  0.9016328156113103\n",
      "Confusion Matrix:\n"
     ]
    },
    {
     "data": {
      "image/png": "[encoded data removed]",
      "text/plain": [
       "<Figure size 576x360 with 2 Axes>"
      ]
     },
     "metadata": {
      "needs_background": "light"
     },
     "output_type": "display_data"
    }
   ],
   "source": [
    "train_predictions = knn.predict_proba(scaled_train)[:,1]\n",
    "train_predictions[train_predictions > 0.4] = 1\n",
    "train_predictions[train_predictions <= 0.4] = 0\n",
    "print('Train:')\n",
    "knn_train_AUC, knn_train_accuracy, knn_train_precision, knn_train_recall = report(train_labels, train_predictions)"
   ]
  },
  {
   "cell_type": "code",
   "execution_count": 42,
   "metadata": {},
   "outputs": [
    {
     "name": "stdout",
     "output_type": "stream",
     "text": [
      "Validation:\n",
      "AUC:  0.5406677003054546\n",
      "Accuracy:  0.27639556763537526\n",
      "Precision:  0.12785622593068036\n",
      "Recall:  0.8861209964412812\n",
      "Confusion Matrix:\n"
     ]
    },
    {
     "data": {
      "image/png": "[encoded data removed]",
      "text/plain": [
       "<Figure size 576x360 with 2 Axes>"
      ]
     },
     "metadata": {
      "needs_background": "light"
     },
     "output_type": "display_data"
    }
   ],
   "source": [
    "vd_predictions = knn.predict_proba(scaled_vd)[:,1]\n",
    "vd_predictions[vd_predictions > 0.4] = 1\n",
    "vd_predictions[vd_predictions <= 0.4] = 0\n",
    "print('Validation:')\n",
    "knn_vd_AUC, knn_vd_accuracy, knn_vd_precision, knn_vd_recall = report(vd_labels, vd_predictions)"
   ]
  },
  {
   "cell_type": "markdown",
   "metadata": {},
   "source": [
    "### Logistic Regression"
   ]
  },
  {
   "cell_type": "code",
   "execution_count": 43,
   "metadata": {},
   "outputs": [
    {
     "data": {
      "text/plain": [
       "LogisticRegression(random_state=10)"
      ]
     },
     "execution_count": 43,
     "metadata": {},
     "output_type": "execute_result"
    }
   ],
   "source": [
    "from sklearn.linear_model import LogisticRegression\n",
    "logistic_regression = LogisticRegression(random_state=10)\n",
    "logistic_regression.fit(scaled_train, train_labels)"
   ]
  },
  {
   "cell_type": "code",
   "execution_count": 44,
   "metadata": {},
   "outputs": [
    {
     "name": "stdout",
     "output_type": "stream",
     "text": [
      "Train:\n",
      "AUC:  0.5931899641577061\n",
      "Accuracy:  0.5931899641577061\n",
      "Precision:  0.6096189881324172\n",
      "Recall:  0.5182530200451347\n",
      "Confusion Matrix:\n"
     ]
    },
    {
     "data": {
      "image/png": "[encoded data removed]",
      "text/plain": [
       "<Figure size 576x360 with 2 Axes>"
      ]
     },
     "metadata": {
      "needs_background": "light"
     },
     "output_type": "display_data"
    }
   ],
   "source": [
    "train_predictions = logistic_regression.predict_proba(scaled_train)[:,1]\n",
    "train_predictions[train_predictions > 0.5] = 1\n",
    "train_predictions[train_predictions <= 0.5] = 0\n",
    "print('Train:')\n",
    "lr_train_AUC, lr_train_accuracy, lr_train_precision, lr_train_recall = report(train_labels, train_predictions)"
   ]
  },
  {
   "cell_type": "code",
   "execution_count": 45,
   "metadata": {},
   "outputs": [
    {
     "name": "stdout",
     "output_type": "stream",
     "text": [
      "Validation:\n",
      "AUC:  0.6028609002662225\n",
      "Accuracy:  0.6579552582061468\n",
      "Precision:  0.17857142857142858\n",
      "Recall:  0.5308422301304864\n",
      "Confusion Matrix:\n"
     ]
    },
    {
     "data": {
      "image/png": "[encoded data removed]",
      "text/plain": [
       "<Figure size 576x360 with 2 Axes>"
      ]
     },
     "metadata": {
      "needs_background": "light"
     },
     "output_type": "display_data"
    }
   ],
   "source": [
    "vd_predictions = logistic_regression.predict_proba(scaled_vd)[:,1]\n",
    "vd_predictions[vd_predictions > 0.5] = 1\n",
    "vd_predictions[vd_predictions <= 0.5] = 0\n",
    "print('Validation:')\n",
    "lr_vd_AUC, lr_vd_accuracy, lr_vd_precision, lr_vd_recall = report(vd_labels, vd_predictions)"
   ]
  },
  {
   "cell_type": "markdown",
   "metadata": {},
   "source": [
    "### Stochastic Gradient Descent"
   ]
  },
  {
   "cell_type": "code",
   "execution_count": 46,
   "metadata": {},
   "outputs": [
    {
     "data": {
      "text/plain": [
       "SGDClassifier(alpha=0.1, loss='log', random_state=10)"
      ]
     },
     "execution_count": 46,
     "metadata": {},
     "output_type": "execute_result"
    }
   ],
   "source": [
    "from sklearn.linear_model import SGDClassifier\n",
    "sgd = SGDClassifier(loss = 'log', alpha = 0.1, random_state=10)\n",
    "sgd.fit(scaled_train, train_labels)"
   ]
  },
  {
   "cell_type": "code",
   "execution_count": 47,
   "metadata": {},
   "outputs": [
    {
     "name": "stdout",
     "output_type": "stream",
     "text": [
      "Train:\n",
      "AUC:  0.590933227133944\n",
      "Accuracy:  0.590933227133944\n",
      "Precision:  0.60703125\n",
      "Recall:  0.5157307845479888\n",
      "Confusion Matrix:\n"
     ]
    },
    {
     "data": {
      "image/png": "[encoded data removed]",
      "text/plain": [
       "<Figure size 576x360 with 2 Axes>"
      ]
     },
     "metadata": {
      "needs_background": "light"
     },
     "output_type": "display_data"
    }
   ],
   "source": [
    "train_predictions = sgd.predict_proba(scaled_train)[:,1]\n",
    "train_predictions[train_predictions > 0.5] = 1\n",
    "train_predictions[train_predictions <= 0.5] = 0\n",
    "print('Train:')\n",
    "sgd_train_AUC, sgd_train_accuracy, sgd_train_precision, sgd_train_recall = report(train_labels, train_predictions)"
   ]
  },
  {
   "cell_type": "code",
   "execution_count": 48,
   "metadata": {},
   "outputs": [
    {
     "name": "stdout",
     "output_type": "stream",
     "text": [
      "Validation:\n",
      "AUC:  0.6036943031551838\n",
      "Accuracy:  0.6548888424280438\n",
      "Precision:  0.17828999211977936\n",
      "Recall:  0.536773428232503\n",
      "Confusion Matrix:\n"
     ]
    },
    {
     "data": {
      "image/png": "[encoded data removed]",
      "text/plain": [
       "<Figure size 576x360 with 2 Axes>"
      ]
     },
     "metadata": {
      "needs_background": "light"
     },
     "output_type": "display_data"
    }
   ],
   "source": [
    "vd_predictions = sgd.predict_proba(scaled_vd)[:,1]\n",
    "vd_predictions[vd_predictions > 0.5] = 1\n",
    "vd_predictions[vd_predictions <= 0.5] = 0\n",
    "print('Validation:')\n",
    "sgd_vd_AUC, sgd_vd_accuracy, sgd_vd_precision, sgd_vd_recall = report(vd_labels, vd_predictions)"
   ]
  },
  {
   "cell_type": "markdown",
   "metadata": {},
   "source": [
    "### Naive Bayes"
   ]
  },
  {
   "cell_type": "code",
   "execution_count": 49,
   "metadata": {},
   "outputs": [
    {
     "data": {
      "text/plain": [
       "GaussianNB()"
      ]
     },
     "execution_count": 49,
     "metadata": {},
     "output_type": "execute_result"
    }
   ],
   "source": [
    "from sklearn.naive_bayes import GaussianNB\n",
    "nb = GaussianNB()\n",
    "nb.fit(scaled_train, train_labels)"
   ]
  },
  {
   "cell_type": "code",
   "execution_count": 50,
   "metadata": {},
   "outputs": [
    {
     "name": "stdout",
     "output_type": "stream",
     "text": [
      "Train:\n",
      "AUC:  0.501128368511881\n",
      "Accuracy:  0.501128368511881\n",
      "Precision:  0.5005689805207846\n",
      "Recall:  0.9926987919819461\n",
      "Confusion Matrix:\n"
     ]
    },
    {
     "data": {
      "image/png": "[encoded data removed]",
      "text/plain": [
       "<Figure size 576x360 with 2 Axes>"
      ]
     },
     "metadata": {
      "needs_background": "light"
     },
     "output_type": "display_data"
    }
   ],
   "source": [
    "train_predictions = nb.predict_proba(scaled_train)[:,1]\n",
    "train_predictions[train_predictions > 0.5] = 1\n",
    "train_predictions[train_predictions <= 0.5] = 0\n",
    "print('Train:')\n",
    "nb_train_AUC, nb_train_accuracy, nb_train_precision, nb_train_recall = report(train_labels, train_predictions)"
   ]
  },
  {
   "cell_type": "code",
   "execution_count": 51,
   "metadata": {},
   "outputs": [
    {
     "name": "stdout",
     "output_type": "stream",
     "text": [
      "Validation:\n",
      "AUC:  0.5015163829499624\n",
      "Accuracy:  0.1242595302808558\n",
      "Precision:  0.11781649571448644\n",
      "Recall:  0.994661921708185\n",
      "Confusion Matrix:\n"
     ]
    },
    {
     "data": {
      "image/png": "[encoded data removed]",
      "text/plain": [
       "<Figure size 576x360 with 2 Axes>"
      ]
     },
     "metadata": {
      "needs_background": "light"
     },
     "output_type": "display_data"
    }
   ],
   "source": [
    "vd_predictions = nb.predict_proba(scaled_vd)[:,1]\n",
    "vd_predictions[vd_predictions > 0.5] = 1\n",
    "vd_predictions[vd_predictions <= 0.5] = 0\n",
    "print('Validation:')\n",
    "nb_vd_AUC, nb_vd_accuracy, nb_vd_precision, nb_vd_recall = report(vd_labels, vd_predictions)"
   ]
  },
  {
   "cell_type": "markdown",
   "metadata": {},
   "source": [
    "### Decision Tree Classifier"
   ]
  },
  {
   "cell_type": "code",
   "execution_count": 52,
   "metadata": {},
   "outputs": [
    {
     "data": {
      "text/plain": [
       "DecisionTreeClassifier(max_depth=10, random_state=10)"
      ]
     },
     "execution_count": 52,
     "metadata": {},
     "output_type": "execute_result"
    }
   ],
   "source": [
    "from sklearn.tree import DecisionTreeClassifier\n",
    "\n",
    "dt = DecisionTreeClassifier(max_depth = 10, random_state = 10)\n",
    "dt.fit(scaled_train, train_labels)"
   ]
  },
  {
   "cell_type": "code",
   "execution_count": 53,
   "metadata": {},
   "outputs": [
    {
     "name": "stdout",
     "output_type": "stream",
     "text": [
      "Train:\n",
      "AUC:  0.6571750962431966\n",
      "Accuracy:  0.6571750962431966\n",
      "Precision:  0.6664323868428451\n",
      "Recall:  0.6293641311562459\n",
      "Confusion Matrix:\n"
     ]
    },
    {
     "data": {
      "image/png": "[encoded data removed]",
      "text/plain": [
       "<Figure size 576x360 with 2 Axes>"
      ]
     },
     "metadata": {
      "needs_background": "light"
     },
     "output_type": "display_data"
    }
   ],
   "source": [
    "train_predictions = dt.predict_proba(scaled_train)[:,1]\n",
    "train_predictions[train_predictions > 0.5] = 1\n",
    "train_predictions[train_predictions <= 0.5] = 0\n",
    "print('Train:')\n",
    "dt_train_AUC, dt_train_accuracy, dt_train_precision, dt_train_recall = report(train_labels, train_predictions)"
   ]
  },
  {
   "cell_type": "code",
   "execution_count": 54,
   "metadata": {},
   "outputs": [
    {
     "name": "stdout",
     "output_type": "stream",
     "text": [
      "Validation:\n",
      "AUC:  0.5784364766013462\n",
      "Accuracy:  0.5966966339117709\n",
      "Precision:  0.15659018589850945\n",
      "Recall:  0.5545670225385528\n",
      "Confusion Matrix:\n"
     ]
    },
    {
     "data": {
      "image/png": "[encoded data removed]",
      "text/plain": [
       "<Figure size 576x360 with 2 Axes>"
      ]
     },
     "metadata": {
      "needs_background": "light"
     },
     "output_type": "display_data"
    }
   ],
   "source": [
    "vd_predictions = dt.predict_proba(scaled_vd)[:,1]\n",
    "vd_predictions[vd_predictions > 0.5] = 1\n",
    "vd_predictions[vd_predictions <= 0.5] = 0\n",
    "print('Validation:')\n",
    "dt_vd_AUC, dt_vd_accuracy, dt_vd_precision, dt_vd_recall = report(vd_labels, vd_predictions)"
   ]
  },
  {
   "cell_type": "markdown",
   "metadata": {},
   "source": [
    "### Random Forest"
   ]
  },
  {
   "cell_type": "code",
   "execution_count": 55,
   "metadata": {},
   "outputs": [
    {
     "data": {
      "text/plain": [
       "RandomForestClassifier(max_depth=6, random_state=10)"
      ]
     },
     "execution_count": 55,
     "metadata": {},
     "output_type": "execute_result"
    }
   ],
   "source": [
    "from sklearn.ensemble import RandomForestClassifier\n",
    "rf=RandomForestClassifier(max_depth = 6, random_state = 10)\n",
    "rf.fit(scaled_train, train_labels)"
   ]
  },
  {
   "cell_type": "code",
   "execution_count": 56,
   "metadata": {},
   "outputs": [
    {
     "name": "stdout",
     "output_type": "stream",
     "text": [
      "Train:\n",
      "AUC:  0.6170184521439002\n",
      "Accuracy:  0.6170184521439002\n",
      "Precision:  0.6256593014967926\n",
      "Recall:  0.5826363998407009\n",
      "Confusion Matrix:\n"
     ]
    },
    {
     "data": {
      "image/png": "[encoded data removed]",
      "text/plain": [
       "<Figure size 576x360 with 2 Axes>"
      ]
     },
     "metadata": {
      "needs_background": "light"
     },
     "output_type": "display_data"
    }
   ],
   "source": [
    "train_predictions = rf.predict_proba(scaled_train)[:,1]\n",
    "train_predictions[train_predictions > 0.5] = 1\n",
    "train_predictions[train_predictions <= 0.5] = 0\n",
    "print('Train:')\n",
    "rf_train_AUC, rf_train_accuracy, rf_train_precision, rf_train_recall = report(train_labels, train_predictions)"
   ]
  },
  {
   "cell_type": "code",
   "execution_count": 57,
   "metadata": {},
   "outputs": [
    {
     "name": "stdout",
     "output_type": "stream",
     "text": [
      "Validation:\n",
      "AUC:  0.6031130569824998\n",
      "Accuracy:  0.6207401212628058\n",
      "Precision:  0.17121848739495799\n",
      "Recall:  0.5800711743772242\n",
      "Confusion Matrix:\n"
     ]
    },
    {
     "data": {
      "image/png": "[encoded data removed]",
      "text/plain": [
       "<Figure size 576x360 with 2 Axes>"
      ]
     },
     "metadata": {
      "needs_background": "light"
     },
     "output_type": "display_data"
    }
   ],
   "source": [
    "vd_predictions = rf.predict_proba(scaled_vd)[:,1]\n",
    "vd_predictions[vd_predictions > 0.5] = 1\n",
    "vd_predictions[vd_predictions <= 0.5] = 0\n",
    "print('Validation:')\n",
    "rf_vd_AUC, rf_vd_accuracy, rf_vd_precision, rf_vd_recall = report(vd_labels, vd_predictions)"
   ]
  },
  {
   "cell_type": "markdown",
   "metadata": {},
   "source": [
    "### Gradient Boosting Classifier"
   ]
  },
  {
   "cell_type": "code",
   "execution_count": 58,
   "metadata": {},
   "outputs": [
    {
     "data": {
      "text/plain": [
       "GradientBoostingClassifier(learning_rate=1.0, n_estimators=75, random_state=42)"
      ]
     },
     "execution_count": 58,
     "metadata": {},
     "output_type": "execute_result"
    }
   ],
   "source": [
    "from sklearn.ensemble import GradientBoostingClassifier\n",
    "gbc = GradientBoostingClassifier(n_estimators=75, learning_rate=1.0, max_depth=3, random_state=42)\n",
    "gbc.fit(scaled_train, train_labels)"
   ]
  },
  {
   "cell_type": "code",
   "execution_count": 59,
   "metadata": {},
   "outputs": [
    {
     "name": "stdout",
     "output_type": "stream",
     "text": [
      "Train:\n",
      "AUC:  0.6589672109385372\n",
      "Accuracy:  0.658967210938537\n",
      "Precision:  0.6637942825878813\n",
      "Recall:  0.6442320456657374\n",
      "Confusion Matrix:\n"
     ]
    },
    {
     "data": {
      "image/png": "[encoded data removed]",
      "text/plain": [
       "<Figure size 576x360 with 2 Axes>"
      ]
     },
     "metadata": {
      "needs_background": "light"
     },
     "output_type": "display_data"
    }
   ],
   "source": [
    "train_predictions = gbc.predict_proba(scaled_train)[:,1]\n",
    "train_predictions[train_predictions > 0.5] = 1\n",
    "train_predictions[train_predictions <= 0.5] = 0\n",
    "print('Train:')\n",
    "gbc_train_AUC, gbc_train_accuracy, gbc_train_precision, gbc_train_recall = report(train_labels, train_predictions)"
   ]
  },
  {
   "cell_type": "code",
   "execution_count": 60,
   "metadata": {
    "scrolled": true
   },
   "outputs": [
    {
     "name": "stdout",
     "output_type": "stream",
     "text": [
      "Validation:\n",
      "AUC:  0.5875962502350137\n",
      "Accuracy:  0.5924454665830371\n",
      "Precision:  0.160078405749755\n",
      "Recall:  0.5812574139976275\n",
      "Confusion Matrix:\n"
     ]
    },
    {
     "data": {
      "image/png": "[encoded data removed]",
      "text/plain": [
       "<Figure size 576x360 with 2 Axes>"
      ]
     },
     "metadata": {
      "needs_background": "light"
     },
     "output_type": "display_data"
    }
   ],
   "source": [
    "vd_predictions = gbc.predict_proba(scaled_vd)[:,1]\n",
    "vd_predictions[vd_predictions > 0.5] = 1\n",
    "vd_predictions[vd_predictions <= 0.5] = 0\n",
    "print('Validation:')\n",
    "gbc_vd_AUC, gbc_vd_accuracy, gbc_vd_precision, gbc_vd_recall = report(vd_labels, vd_predictions)"
   ]
  },
  {
   "cell_type": "code",
   "execution_count": 61,
   "metadata": {},
   "outputs": [],
   "source": [
    "model_results_accuracy = {}\n",
    "model_results_auc = {}\n",
    "model_results_precision = {}\n",
    "model_results_recall = {}\n",
    "\n",
    "model_results_accuracy['KNN'] = knn_vd_accuracy\n",
    "model_results_accuracy['LR'] = lr_vd_accuracy\n",
    "model_results_accuracy['SGD'] = sgd_vd_accuracy\n",
    "model_results_accuracy['NB'] = nb_vd_accuracy\n",
    "model_results_accuracy['DT'] = dt_vd_accuracy\n",
    "model_results_accuracy['RF'] = rf_vd_accuracy\n",
    "model_results_accuracy['GBC'] = gbc_vd_accuracy\n",
    "\n",
    "model_results_auc['KNN'] = knn_vd_AUC\n",
    "model_results_auc['LR'] = lr_vd_AUC\n",
    "model_results_auc['SGD'] = sgd_vd_AUC\n",
    "model_results_auc['NB'] = nb_vd_AUC\n",
    "model_results_auc['DT'] = dt_vd_AUC\n",
    "model_results_auc['RF'] = rf_vd_AUC\n",
    "model_results_auc['GBC'] = gbc_vd_AUC\n",
    "\n",
    "model_results_recall['KNN'] = knn_vd_recall\n",
    "model_results_recall['LR'] = lr_vd_recall\n",
    "model_results_recall['SGD'] = sgd_vd_recall\n",
    "model_results_recall['NB'] = nb_vd_recall\n",
    "model_results_recall['DT'] = dt_vd_recall\n",
    "model_results_recall['RF'] = rf_vd_recall\n",
    "model_results_recall['GBC'] = gbc_vd_recall\n",
    "\n",
    "model_results_precision['KNN'] = knn_vd_precision\n",
    "model_results_precision['LR'] = lr_vd_precision\n",
    "model_results_precision['SGD'] = sgd_vd_precision\n",
    "model_results_precision['NB'] = nb_vd_precision\n",
    "model_results_precision['DT'] = dt_vd_precision\n",
    "model_results_precision['RF'] = rf_vd_precision\n",
    "model_results_precision['GBC'] = gbc_vd_precision"
   ]
  },
  {
   "cell_type": "code",
   "execution_count": 63,
   "metadata": {},
   "outputs": [
    {
     "ename": "NameError",
     "evalue": "name 'values_accuracy' is not defined",
     "output_type": "error",
     "traceback": [
      "\u001b[0;31m---------------------------------------------------------------------------\u001b[0m",
      "\u001b[0;31mNameError\u001b[0m                                 Traceback (most recent call last)",
      "\u001b[0;32m<ipython-input-63-736b413e804c>\u001b[0m in \u001b[0;36m<module>\u001b[0;34m\u001b[0m\n\u001b[0;32m----> 1\u001b[0;31m \u001b[0mlen\u001b[0m\u001b[0;34m(\u001b[0m\u001b[0mvalues_accuracy\u001b[0m\u001b[0;34m)\u001b[0m\u001b[0;34m\u001b[0m\u001b[0;34m\u001b[0m\u001b[0m\n\u001b[0m",
      "\u001b[0;31mNameError\u001b[0m: name 'values_accuracy' is not defined"
     ]
    }
   ],
   "source": [
    "len(values_accuracy)"
   ]
  },
  {
   "cell_type": "code",
   "execution_count": 64,
   "metadata": {},
   "outputs": [
    {
     "data": {
      "image/png": "[encoded data removed]",
      "text/plain": [
       "<Figure size 864x576 with 1 Axes>"
      ]
     },
     "metadata": {
      "needs_background": "light"
     },
     "output_type": "display_data"
    }
   ],
   "source": [
    "import numpy as np\n",
    "import matplotlib.pyplot as plt\n",
    " \n",
    "# set width of bar\n",
    "barWidth = 0.2\n",
    "fig = plt.subplots(figsize =(12, 8))\n",
    " \n",
    "# set attbs for bar height\n",
    "keys = model_results_accuracy.keys()\n",
    "values_accuracy = model_results_accuracy.values()\n",
    "values_recall = model_results_recall.values()\n",
    "values_precision = model_results_precision.values()\n",
    "values_auc = model_results_auc.values()\n",
    "\n",
    "# Set position of bar on X axis\n",
    "br1 = np.arange(len(values_accuracy))\n",
    "br2 = [x + barWidth for x in br1]\n",
    "br3 = [x + barWidth for x in br2]\n",
    "br4 = [x + barWidth for x in br3]\n",
    "\n",
    "# Make the plot\n",
    "plt.bar(br1, values_accuracy, color ='r', width = barWidth,\n",
    "        edgecolor ='grey', label ='Accuracy')\n",
    "plt.bar(br2, values_recall, color ='g', width = barWidth,\n",
    "        edgecolor ='grey', label ='Recall')\n",
    "plt.bar(br3, values_precision, color ='b', width = barWidth,\n",
    "        edgecolor ='grey', label ='Precision')\n",
    "plt.bar(br4, values_auc, color ='c', width = barWidth,\n",
    "        edgecolor ='grey', label ='AUC')\n",
    " \n",
    "# Adding Xticks\n",
    "plt.xlabel('Model', fontweight ='bold', fontsize = 15)\n",
    "plt.ylabel('%age', fontweight ='bold', fontsize = 15)\n",
    "plt.xticks([r + barWidth for r in range(len(values_accuracy))],\n",
    "        ['KNN', 'LR', 'SGD', 'NB', 'DT' , 'RF' , 'GDC'])\n",
    " \n",
    "plt.legend()\n",
    "plt.show()"
   ]
  },
  {
   "cell_type": "code",
   "execution_count": 67,
   "metadata": {},
   "outputs": [],
   "source": [
    "# Picking the Top 3 models for further analysis Logistic Regression, Stochastic Gradient Descent & Random Forest"
   ]
  },
  {
   "cell_type": "code",
   "execution_count": 68,
   "metadata": {
    "scrolled": true
   },
   "outputs": [
    {
     "data": {
      "text/plain": [
       "Text(0.5, 1.0, 'ACCURACY')"
      ]
     },
     "execution_count": 68,
     "metadata": {},
     "output_type": "execute_result"
    },
    {
     "data": {
      "image/png": "[encoded data removed]",
      "text/plain": [
       "<Figure size 576x360 with 1 Axes>"
      ]
     },
     "metadata": {
      "needs_background": "light"
     },
     "output_type": "display_data"
    }
   ],
   "source": [
    "# bar plot for model accuracies\n",
    "keys = model_results_accuracy.keys()\n",
    "values = model_results_accuracy.values()\n",
    "plt.bar(keys, values)\n",
    "plt.title(\"ACCURACY\")"
   ]
  },
  {
   "cell_type": "code",
   "execution_count": 69,
   "metadata": {},
   "outputs": [
    {
     "name": "stdout",
     "output_type": "stream",
     "text": [
      "Parameters currently in use:\n",
      "\n",
      "{'bootstrap': True,\n",
      " 'ccp_alpha': 0.0,\n",
      " 'class_weight': None,\n",
      " 'criterion': 'gini',\n",
      " 'max_depth': 6,\n",
      " 'max_features': 'auto',\n",
      " 'max_leaf_nodes': None,\n",
      " 'max_samples': None,\n",
      " 'min_impurity_decrease': 0.0,\n",
      " 'min_impurity_split': None,\n",
      " 'min_samples_leaf': 1,\n",
      " 'min_samples_split': 2,\n",
      " 'min_weight_fraction_leaf': 0.0,\n",
      " 'n_estimators': 100,\n",
      " 'n_jobs': None,\n",
      " 'oob_score': False,\n",
      " 'random_state': 10,\n",
      " 'verbose': 0,\n",
      " 'warm_start': False}\n"
     ]
    }
   ],
   "source": [
    "# Look at parameters used by our current random forest\n",
    "from pprint import pprint\n",
    "\n",
    "print('Parameters currently in use:\\n')\n",
    "pprint(rf.get_params())"
   ]
  },
  {
   "cell_type": "code",
   "execution_count": 70,
   "metadata": {},
   "outputs": [],
   "source": [
    "# Create parameter grid to sample\n",
    "from sklearn.model_selection import RandomizedSearchCV\n",
    "\n",
    "# Number of trees in random forest\n",
    "n_estimators = [int(x) for x in np.linspace(start = 200, stop = 2000, num = 10)]\n",
    "# Number of features to consider at every split\n",
    "max_features = ['auto', 'sqrt']\n",
    "# Maximum number of levels in tree\n",
    "max_depth = [int(x) for x in np.linspace(10, 110, num = 11)]\n",
    "max_depth.append(None)\n",
    "# Minimum number of samples required to split a node\n",
    "min_samples_split = [1, 2, 5, 10]\n",
    "# Minimum number of samples required at each leaf node\n",
    "min_samples_leaf = [1, 2, 4, 8, 10]\n",
    "# Method of selecting samples for training each tree\n",
    "bootstrap = [True, False]\n",
    "# Create the random grid\n",
    "random_grid = {'n_estimators': n_estimators,\n",
    "               'max_features': max_features,\n",
    "               'max_depth': max_depth,\n",
    "               'min_samples_split': min_samples_split,\n",
    "               'min_samples_leaf': min_samples_leaf,\n",
    "               'bootstrap': bootstrap}"
   ]
  },
  {
   "cell_type": "code",
   "execution_count": 71,
   "metadata": {},
   "outputs": [
    {
     "name": "stdout",
     "output_type": "stream",
     "text": [
      "Fitting 3 folds for each of 100 candidates, totalling 300 fits\n"
     ]
    },
    {
     "name": "stderr",
     "output_type": "stream",
     "text": [
      "[Parallel(n_jobs=-1)]: Using backend LokyBackend with 8 concurrent workers.\n",
      "[Parallel(n_jobs=-1)]: Done  25 tasks      | elapsed:   53.2s\n",
      "[Parallel(n_jobs=-1)]: Done 146 tasks      | elapsed:  5.7min\n",
      "[Parallel(n_jobs=-1)]: Done 300 out of 300 | elapsed: 11.9min finished\n"
     ]
    },
    {
     "data": {
      "text/plain": [
       "RandomizedSearchCV(cv=3,\n",
       "                   estimator=RandomForestClassifier(max_depth=6,\n",
       "                                                    random_state=10),\n",
       "                   n_iter=100, n_jobs=-1,\n",
       "                   param_distributions={'bootstrap': [True, False],\n",
       "                                        'max_depth': [10, 20, 30, 40, 50, 60,\n",
       "                                                      70, 80, 90, 100, 110,\n",
       "                                                      None],\n",
       "                                        'max_features': ['auto', 'sqrt'],\n",
       "                                        'min_samples_leaf': [1, 2, 4, 8, 10],\n",
       "                                        'min_samples_split': [1, 2, 5, 10],\n",
       "                                        'n_estimators': [200, 400, 600, 800,\n",
       "                                                         1000, 1200, 1400, 1600,\n",
       "                                                         1800, 2000]},\n",
       "                   random_state=0, verbose=2)"
      ]
     },
     "execution_count": 71,
     "metadata": {},
     "output_type": "execute_result"
    }
   ],
   "source": [
    "# Use the random grid to search for best hyperparameters\n",
    "# Random search of parameters, using 3 fold cross validation, \n",
    "# search across 100 different combinations, and use all available cores\n",
    "rf_random = RandomizedSearchCV(estimator = rf, param_distributions = random_grid, n_iter = 100,\n",
    "                               cv = 3, verbose=2, random_state=0, n_jobs = -1)\n",
    "# Fit the random search model\n",
    "# rf.fit(X_train, y_train)\n",
    "rf_random.fit(scaled_train, train_labels)"
   ]
  },
  {
   "cell_type": "code",
   "execution_count": 72,
   "metadata": {},
   "outputs": [
    {
     "data": {
      "text/plain": [
       "{'n_estimators': 600,\n",
       " 'min_samples_split': 10,\n",
       " 'min_samples_leaf': 2,\n",
       " 'max_features': 'sqrt',\n",
       " 'max_depth': 10,\n",
       " 'bootstrap': True}"
      ]
     },
     "execution_count": 72,
     "metadata": {},
     "output_type": "execute_result"
    }
   ],
   "source": [
    "# View best parameters from fitting the random search\n",
    "rf_random.best_params_"
   ]
  },
  {
   "cell_type": "code",
   "execution_count": 73,
   "metadata": {},
   "outputs": [],
   "source": [
    "# Use the parameter identified from random search to define ranges for grid search\n",
    "from sklearn.model_selection import GridSearchCV\n",
    "\n",
    "# Create the parameter grid based on the results of random search \n",
    "param_grid = {\n",
    "                'bootstrap': [True, False],\n",
    "                'max_depth': [10, 20, 30, 40, 50, 60, 70, 80, 90, 100, 110, None],\n",
    "                'max_features': ['auto', 'sqrt'],\n",
    "                'min_samples_leaf': [1, 2, 4],\n",
    "                'min_samples_split': [2, 5, 10, 20],\n",
    "                'n_estimators': [200, 400, 600, 800, 1000, 1200, 1400, 1600, 1800, 2000]}\n",
    "\n",
    "# Instantiate the grid search model\n",
    "grid_search = GridSearchCV(estimator = rf, param_grid = param_grid, \n",
    "                          cv = 3, n_jobs = -1, verbose = 2)"
   ]
  },
  {
   "cell_type": "code",
   "execution_count": 74,
   "metadata": {},
   "outputs": [
    {
     "name": "stdout",
     "output_type": "stream",
     "text": [
      "Fitting 3 folds for each of 5760 candidates, totalling 17280 fits\n"
     ]
    },
    {
     "name": "stderr",
     "output_type": "stream",
     "text": [
      "[Parallel(n_jobs=-1)]: Using backend LokyBackend with 8 concurrent workers.\n",
      "[Parallel(n_jobs=-1)]: Done  25 tasks      | elapsed:   46.3s\n",
      "[Parallel(n_jobs=-1)]: Done 146 tasks      | elapsed:  4.7min\n",
      "[Parallel(n_jobs=-1)]: Done 349 tasks      | elapsed: 11.0min\n",
      "[Parallel(n_jobs=-1)]: Done 632 tasks      | elapsed: 20.3min\n",
      "[Parallel(n_jobs=-1)]: Done 997 tasks      | elapsed: 33.8min\n",
      "[Parallel(n_jobs=-1)]: Done 1442 tasks      | elapsed: 51.2min\n",
      "[Parallel(n_jobs=-1)]: Done 1969 tasks      | elapsed: 76.7min\n",
      "[Parallel(n_jobs=-1)]: Done 2576 tasks      | elapsed: 106.8min\n",
      "[Parallel(n_jobs=-1)]: Done 3265 tasks      | elapsed: 140.9min\n",
      "[Parallel(n_jobs=-1)]: Done 4034 tasks      | elapsed: 175.8min\n",
      "[Parallel(n_jobs=-1)]: Done 4885 tasks      | elapsed: 340.9min\n",
      "[Parallel(n_jobs=-1)]: Done 5816 tasks      | elapsed: 652.3min\n",
      "[Parallel(n_jobs=-1)]: Done 6829 tasks      | elapsed: 695.3min\n",
      "[Parallel(n_jobs=-1)]: Done 7922 tasks      | elapsed: 742.6min\n",
      "[Parallel(n_jobs=-1)]: Done 9097 tasks      | elapsed: 789.4min\n",
      "[Parallel(n_jobs=-1)]: Done 10352 tasks      | elapsed: 939.4min\n",
      "[Parallel(n_jobs=-1)]: Done 11689 tasks      | elapsed: 1017.3min\n",
      "[Parallel(n_jobs=-1)]: Done 13106 tasks      | elapsed: 1103.0min\n",
      "[Parallel(n_jobs=-1)]: Done 14605 tasks      | elapsed: 1307.7min\n",
      "[Parallel(n_jobs=-1)]: Done 16184 tasks      | elapsed: 2130.1min\n",
      "[Parallel(n_jobs=-1)]: Done 17280 out of 17280 | elapsed: 2187.3min finished\n"
     ]
    },
    {
     "data": {
      "text/plain": [
       "{'bootstrap': True,\n",
       " 'max_depth': 10,\n",
       " 'max_features': 'auto',\n",
       " 'min_samples_leaf': 4,\n",
       " 'min_samples_split': 2,\n",
       " 'n_estimators': 400}"
      ]
     },
     "execution_count": 74,
     "metadata": {},
     "output_type": "execute_result"
    }
   ],
   "source": [
    "# Fit the grid search to the data\n",
    "grid_search.fit(scaled_train, train_labels)\n",
    "grid_search.best_params_"
   ]
  },
  {
   "cell_type": "code",
   "execution_count": 75,
   "metadata": {},
   "outputs": [],
   "source": [
    "# Assigning Best Estimators \n",
    "# Then displaying CF matrix to check accuracy and see if it is better than the base model(96% accuracy)\n",
    "best_grid = grid_search.best_estimator_"
   ]
  },
  {
   "cell_type": "code",
   "execution_count": 77,
   "metadata": {},
   "outputs": [
    {
     "ename": "ImportError",
     "evalue": "cannot import name 'ConfusionMatrix'",
     "output_type": "error",
     "traceback": [
      "\u001b[0;31m---------------------------------------------------------------------------\u001b[0m",
      "\u001b[0;31mImportError\u001b[0m                               Traceback (most recent call last)",
      "\u001b[0;32m<ipython-input-77-fad960d173d9>\u001b[0m in \u001b[0;36m<module>\u001b[0;34m\u001b[0m\n\u001b[1;32m      1\u001b[0m \u001b[0;31m# Create parameter grid to sample\u001b[0m\u001b[0;34m\u001b[0m\u001b[0;34m\u001b[0m\u001b[0;34m\u001b[0m\u001b[0m\n\u001b[0;32m----> 2\u001b[0;31m \u001b[0;32mfrom\u001b[0m \u001b[0msklearn\u001b[0m\u001b[0;34m.\u001b[0m\u001b[0mmodel_selection\u001b[0m \u001b[0;32mimport\u001b[0m \u001b[0mConfusionMatrix\u001b[0m\u001b[0;34m\u001b[0m\u001b[0;34m\u001b[0m\u001b[0m\n\u001b[0m",
      "\u001b[0;31mImportError\u001b[0m: cannot import name 'ConfusionMatrix'"
     ]
    }
   ],
   "source": [
    "# Create parameter grid to sample\n",
    "from sklearn.model_selection import ConfusionMatrix"
   ]
  },
  {
   "cell_type": "code",
   "execution_count": 76,
   "metadata": {},
   "outputs": [
    {
     "ename": "NameError",
     "evalue": "name 'ConfusionMatrix' is not defined",
     "output_type": "error",
     "traceback": [
      "\u001b[0;31m---------------------------------------------------------------------------\u001b[0m",
      "\u001b[0;31mNameError\u001b[0m                                 Traceback (most recent call last)",
      "\u001b[0;32m<ipython-input-76-a590b9984f40>\u001b[0m in \u001b[0;36m<module>\u001b[0;34m\u001b[0m\n\u001b[1;32m      1\u001b[0m \u001b[0;31m# Checking the accuracy of Model from Random Search\u001b[0m\u001b[0;34m\u001b[0m\u001b[0;34m\u001b[0m\u001b[0;34m\u001b[0m\u001b[0m\n\u001b[0;32m----> 2\u001b[0;31m \u001b[0mcm_best_grid\u001b[0m \u001b[0;34m=\u001b[0m \u001b[0mConfusionMatrix\u001b[0m\u001b[0;34m(\u001b[0m\u001b[0mbest_grid\u001b[0m\u001b[0;34m,\u001b[0m \u001b[0mclasses\u001b[0m\u001b[0;34m=\u001b[0m\u001b[0mclasses\u001b[0m\u001b[0;34m,\u001b[0m \u001b[0mpercent\u001b[0m\u001b[0;34m=\u001b[0m\u001b[0;32mTrue\u001b[0m\u001b[0;34m)\u001b[0m\u001b[0;34m\u001b[0m\u001b[0;34m\u001b[0m\u001b[0m\n\u001b[0m\u001b[1;32m      3\u001b[0m \u001b[0;34m\u001b[0m\u001b[0m\n\u001b[1;32m      4\u001b[0m \u001b[0;31m#Fit fits the passed model. This is unnecessary if you pass the visualizer a pre-fitted model\u001b[0m\u001b[0;34m\u001b[0m\u001b[0;34m\u001b[0m\u001b[0;34m\u001b[0m\u001b[0m\n\u001b[1;32m      5\u001b[0m \u001b[0mcm_best_grid\u001b[0m\u001b[0;34m.\u001b[0m\u001b[0mfit\u001b[0m\u001b[0;34m(\u001b[0m\u001b[0mX_train\u001b[0m\u001b[0;34m,\u001b[0m \u001b[0my_train\u001b[0m\u001b[0;34m)\u001b[0m\u001b[0;34m\u001b[0m\u001b[0;34m\u001b[0m\u001b[0m\n",
      "\u001b[0;31mNameError\u001b[0m: name 'ConfusionMatrix' is not defined"
     ]
    }
   ],
   "source": [
    "# Checking the accuracy of Model from Random Search\n",
    "cm_best_grid = ConfusionMatrix(best_grid, classes=classes, percent=True)\n",
    "\n",
    "#Fit fits the passed model. This is unnecessary if you pass the visualizer a pre-fitted model\n",
    "cm_best_grid.fit(X_train, y_train)\n",
    "\n",
    "#To create the ConfusionMatrix, we need some test data. Score runs predict() on the data\n",
    "#and then creates the confusion_matrix from scikit learn.\n",
    "cm_best_grid.score(X_val, y_val)\n",
    "\n",
    "# change fontsize of the labels in the figure\n",
    "for label in cm_best_grid.ax.texts:\n",
    "    label.set_size(20)\n",
    "\n",
    "#How did we do?\n",
    "cm_best_grid.show()"
   ]
  },
  {
   "cell_type": "code",
   "execution_count": null,
   "metadata": {},
   "outputs": [],
   "source": [
    "# Checking the accuracy of Model(Numbers) from Random Search\n",
    "cm_best_grid = ConfusionMatrix(best_grid, classes=classes, percent=False)\n",
    "\n",
    "#Fit fits the passed model. This is unnecessary if you pass the visualizer a pre-fitted model\n",
    "cm_best_grid.fit(X_train, y_train)\n",
    "\n",
    "#To create the ConfusionMatrix, we need some test data. Score runs predict() on the data\n",
    "#and then creates the confusion_matrix from scikit learn.\n",
    "cm_best_grid.score(X_val, y_val)\n",
    "\n",
    "# change fontsize of the labels in the figure\n",
    "for label in cm_best_grid.ax.texts:\n",
    "    label.set_size(20)\n",
    "\n",
    "#How did we do?\n",
    "cm_best_grid.show()"
   ]
  },
  {
   "cell_type": "code",
   "execution_count": null,
   "metadata": {},
   "outputs": [],
   "source": [
    "# Precision, Recall, and F1 Score - Grid Search - outcome model\n",
    "# set the size of the figure and the font size \n",
    "#%matplotlib inline\n",
    "plt.rcParams['figure.figsize'] = (15, 7)\n",
    "plt.rcParams['font.size'] = 20\n",
    "\n",
    "# Instantiate the visualizer\n",
    "visualizer = ClassificationReport(best_grid, classes=classes)\n",
    "\n",
    "visualizer.fit(X_train, y_train)  # Fit the training data to the visualizer\n",
    "visualizer.score(X_val, y_val)  # Evaluate the model on the test data\n",
    "g = visualizer.show()"
   ]
  },
  {
   "cell_type": "code",
   "execution_count": null,
   "metadata": {},
   "outputs": [],
   "source": [
    "# ROC and AUC\n",
    "#Instantiate the visualizer\n",
    "visualizer = ROCAUC(best_grid)\n",
    "\n",
    "visualizer.fit(X_train, y_train)  # Fit the training data to the visualizer\n",
    "visualizer.score(X_val, y_val)  # Evaluate the model on the test data\n",
    "g = visualizer.show()"
   ]
  },
  {
   "cell_type": "code",
   "execution_count": null,
   "metadata": {},
   "outputs": [],
   "source": []
  },
  {
   "cell_type": "markdown",
   "metadata": {},
   "source": [
    "## References\n",
    "1. Beata Strack, Jonathan P. DeShazo, Chris Gennings, Juan L. Olmo, Sebastian Ventura, Krzysztof J. Cios, and John N. Clore, “Impact of HbA1c Measurement on Hospital Readmission Rates: Analysis of 70,000 Clinical Database Patient Records,” BioMed Research International, vol. 2014, Article ID 781670, 11 pages, 2014.\n",
    "2. https://towardsdatascience.com/predicting-hospital-readmission-for-patients-with-diabetes-using-scikit-learn-a2e359b15f0\n",
    "3. Hospital Readmissions Reduction Program (HRRP). (n.d.). Retrieved from\n",
    "https://www.cms.gov/Medicare/Medicare-Fee-for-Service-Payment/AcuteInpatientPPS/Readmissions-Reduction-Program\n",
    "Leonhardt, M. (2019, November 04). \n",
    "4. Rising health-care costs stall Americans' dreams of buying homes, building families and saving for retirement. Retrieved from \n",
    "https://www.cnbc.com/2019/11/04/health-care-costs-are-preventing-many-americans-from-hitting-life-milestones.html\n",
    "5. Dataset: https://archive.ics.uci.edu/ml/datasets/diabetes+130-us+hospitals+for+years+1999-2008\n"
   ]
  }
 ],
 "metadata": {
  "kernelspec": {
   "display_name": "Python 3",
   "language": "python",
   "name": "python3"
  },
  "language_info": {
   "codemirror_mode": {
    "name": "ipython",
    "version": 3
   },
   "file_extension": ".py",
   "mimetype": "text/x-python",
   "name": "python",
   "nbconvert_exporter": "python",
   "pygments_lexer": "ipython3",
   "version": "3.6.10"
  }
 },
 "nbformat": 4,
 "nbformat_minor": 4
}
